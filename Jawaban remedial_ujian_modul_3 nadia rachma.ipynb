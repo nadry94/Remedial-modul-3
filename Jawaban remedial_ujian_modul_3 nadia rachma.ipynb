{
 "cells": [
  {
   "cell_type": "markdown",
   "metadata": {},
   "source": [
    "This breast cancer domain was obtained from the University Medical Centre, Institute of Oncology, Ljubljana, Yugoslavia. \n",
    "\n",
    "For this remedial test, I would only ask 3 Question. The score breakdown is listed in below:\n",
    "- The Coding part would yield 30 Point\n",
    "- The Question part would give you:\n",
    "  - Q1 : 10 Point\n",
    "  - Q2 : 10 Point\n",
    "  - Q3 : 50 Point\n"
   ]
  },
  {
   "cell_type": "code",
   "execution_count": 1,
   "metadata": {
    "ExecuteTime": {
     "end_time": "2019-11-24T12:52:06.002205Z",
     "start_time": "2019-11-24T12:52:05.996234Z"
    }
   },
   "outputs": [
    {
     "name": "stderr",
     "output_type": "stream",
     "text": [
      "C:\\ProgramData\\Anaconda3\\lib\\site-packages\\sklearn\\externals\\six.py:31: DeprecationWarning: The module is deprecated in version 0.21 and will be removed in version 0.23 since we've dropped support for Python 2.7. Please rely on the official version of six (https://pypi.org/project/six/).\n",
      "  \"(https://pypi.org/project/six/).\", DeprecationWarning)\n",
      "C:\\ProgramData\\Anaconda3\\lib\\site-packages\\sklearn\\externals\\joblib\\__init__.py:15: DeprecationWarning: sklearn.externals.joblib is deprecated in 0.21 and will be removed in 0.23. Please import this functionality directly from joblib, which can be installed with: pip install joblib. If this warning is raised when loading pickled models, you may need to re-serialize those models with scikit-learn 0.21+.\n",
      "  warnings.warn(msg, category=DeprecationWarning)\n"
     ]
    }
   ],
   "source": [
    "import pandas as pd\n",
    "import matplotlib.pyplot as plt\n",
    "import seaborn as sns\n",
    "import numpy as np\n",
    "import mglearn\n",
    "%matplotlib inline"
   ]
  },
  {
   "cell_type": "markdown",
   "metadata": {},
   "source": [
    "As usual, read the data and check all the info"
   ]
  },
  {
   "cell_type": "code",
   "execution_count": 2,
   "metadata": {
    "ExecuteTime": {
     "end_time": "2019-11-24T11:06:40.206706Z",
     "start_time": "2019-11-24T11:06:40.186760Z"
    }
   },
   "outputs": [],
   "source": [
    "kan = pd.read_csv('breast-cancer.csv')"
   ]
  },
  {
   "cell_type": "code",
   "execution_count": 3,
   "metadata": {
    "ExecuteTime": {
     "end_time": "2019-11-24T11:06:40.262567Z",
     "start_time": "2019-11-24T11:06:40.255576Z"
    },
    "scrolled": true
   },
   "outputs": [
    {
     "name": "stdout",
     "output_type": "stream",
     "text": [
      "<class 'pandas.core.frame.DataFrame'>\n",
      "RangeIndex: 286 entries, 0 to 285\n",
      "Data columns (total 10 columns):\n",
      "age            286 non-null object\n",
      "menopause      286 non-null object\n",
      "tumor_size     286 non-null object\n",
      "inv_nodes      286 non-null object\n",
      "node_caps      278 non-null object\n",
      "deg_malig      286 non-null object\n",
      "breast         286 non-null object\n",
      "breast_quad    285 non-null object\n",
      "irradiat       286 non-null object\n",
      "class          286 non-null object\n",
      "dtypes: object(10)\n",
      "memory usage: 22.5+ KB\n"
     ]
    }
   ],
   "source": [
    "kan.info()"
   ]
  },
  {
   "cell_type": "code",
   "execution_count": 4,
   "metadata": {},
   "outputs": [
    {
     "data": {
      "text/html": [
       "<div>\n",
       "<style scoped>\n",
       "    .dataframe tbody tr th:only-of-type {\n",
       "        vertical-align: middle;\n",
       "    }\n",
       "\n",
       "    .dataframe tbody tr th {\n",
       "        vertical-align: top;\n",
       "    }\n",
       "\n",
       "    .dataframe thead th {\n",
       "        text-align: right;\n",
       "    }\n",
       "</style>\n",
       "<table border=\"1\" class=\"dataframe\">\n",
       "  <thead>\n",
       "    <tr style=\"text-align: right;\">\n",
       "      <th></th>\n",
       "      <th>age</th>\n",
       "      <th>menopause</th>\n",
       "      <th>tumor_size</th>\n",
       "      <th>inv_nodes</th>\n",
       "      <th>node_caps</th>\n",
       "      <th>deg_malig</th>\n",
       "      <th>breast</th>\n",
       "      <th>breast_quad</th>\n",
       "      <th>irradiat</th>\n",
       "      <th>class</th>\n",
       "    </tr>\n",
       "  </thead>\n",
       "  <tbody>\n",
       "    <tr>\n",
       "      <td>count</td>\n",
       "      <td>286</td>\n",
       "      <td>286</td>\n",
       "      <td>286</td>\n",
       "      <td>286</td>\n",
       "      <td>278</td>\n",
       "      <td>286</td>\n",
       "      <td>286</td>\n",
       "      <td>285</td>\n",
       "      <td>286</td>\n",
       "      <td>286</td>\n",
       "    </tr>\n",
       "    <tr>\n",
       "      <td>unique</td>\n",
       "      <td>6</td>\n",
       "      <td>3</td>\n",
       "      <td>11</td>\n",
       "      <td>7</td>\n",
       "      <td>2</td>\n",
       "      <td>3</td>\n",
       "      <td>2</td>\n",
       "      <td>5</td>\n",
       "      <td>2</td>\n",
       "      <td>2</td>\n",
       "    </tr>\n",
       "    <tr>\n",
       "      <td>top</td>\n",
       "      <td>'50-59'</td>\n",
       "      <td>'premeno'</td>\n",
       "      <td>'30-34'</td>\n",
       "      <td>'0-2'</td>\n",
       "      <td>'no'</td>\n",
       "      <td>'2'</td>\n",
       "      <td>'left'</td>\n",
       "      <td>'left_low'</td>\n",
       "      <td>'no'</td>\n",
       "      <td>'no-recurrence-events'</td>\n",
       "    </tr>\n",
       "    <tr>\n",
       "      <td>freq</td>\n",
       "      <td>96</td>\n",
       "      <td>150</td>\n",
       "      <td>60</td>\n",
       "      <td>213</td>\n",
       "      <td>222</td>\n",
       "      <td>130</td>\n",
       "      <td>152</td>\n",
       "      <td>110</td>\n",
       "      <td>218</td>\n",
       "      <td>201</td>\n",
       "    </tr>\n",
       "  </tbody>\n",
       "</table>\n",
       "</div>"
      ],
      "text/plain": [
       "            age  menopause tumor_size inv_nodes node_caps deg_malig  breast  \\\n",
       "count       286        286        286       286       278       286     286   \n",
       "unique        6          3         11         7         2         3       2   \n",
       "top     '50-59'  'premeno'    '30-34'     '0-2'      'no'       '2'  'left'   \n",
       "freq         96        150         60       213       222       130     152   \n",
       "\n",
       "       breast_quad irradiat                   class  \n",
       "count          285      286                     286  \n",
       "unique           5        2                       2  \n",
       "top     'left_low'     'no'  'no-recurrence-events'  \n",
       "freq           110      218                     201  "
      ]
     },
     "execution_count": 4,
     "metadata": {},
     "output_type": "execute_result"
    }
   ],
   "source": [
    "kan.describe()"
   ]
  },
  {
   "cell_type": "code",
   "execution_count": null,
   "metadata": {
    "ExecuteTime": {
     "end_time": "2019-11-24T11:06:40.317415Z",
     "start_time": "2019-11-24T11:06:40.283502Z"
    },
    "scrolled": true
   },
   "outputs": [],
   "source": []
  },
  {
   "cell_type": "code",
   "execution_count": 5,
   "metadata": {},
   "outputs": [
    {
     "data": {
      "text/html": [
       "<div>\n",
       "<style scoped>\n",
       "    .dataframe tbody tr th:only-of-type {\n",
       "        vertical-align: middle;\n",
       "    }\n",
       "\n",
       "    .dataframe tbody tr th {\n",
       "        vertical-align: top;\n",
       "    }\n",
       "\n",
       "    .dataframe thead th {\n",
       "        text-align: right;\n",
       "    }\n",
       "</style>\n",
       "<table border=\"1\" class=\"dataframe\">\n",
       "  <thead>\n",
       "    <tr style=\"text-align: right;\">\n",
       "      <th></th>\n",
       "      <th>age</th>\n",
       "      <th>menopause</th>\n",
       "      <th>tumor_size</th>\n",
       "      <th>inv_nodes</th>\n",
       "      <th>node_caps</th>\n",
       "      <th>deg_malig</th>\n",
       "      <th>breast</th>\n",
       "      <th>breast_quad</th>\n",
       "      <th>irradiat</th>\n",
       "      <th>class</th>\n",
       "    </tr>\n",
       "  </thead>\n",
       "  <tbody>\n",
       "    <tr>\n",
       "      <td>0</td>\n",
       "      <td>'40-49'</td>\n",
       "      <td>'premeno'</td>\n",
       "      <td>'15-19'</td>\n",
       "      <td>'0-2'</td>\n",
       "      <td>'yes'</td>\n",
       "      <td>'3'</td>\n",
       "      <td>'right'</td>\n",
       "      <td>'left_up'</td>\n",
       "      <td>'no'</td>\n",
       "      <td>'recurrence-events'</td>\n",
       "    </tr>\n",
       "    <tr>\n",
       "      <td>1</td>\n",
       "      <td>'50-59'</td>\n",
       "      <td>'ge40'</td>\n",
       "      <td>'15-19'</td>\n",
       "      <td>'0-2'</td>\n",
       "      <td>'no'</td>\n",
       "      <td>'1'</td>\n",
       "      <td>'right'</td>\n",
       "      <td>'central'</td>\n",
       "      <td>'no'</td>\n",
       "      <td>'no-recurrence-events'</td>\n",
       "    </tr>\n",
       "    <tr>\n",
       "      <td>2</td>\n",
       "      <td>'50-59'</td>\n",
       "      <td>'ge40'</td>\n",
       "      <td>'35-39'</td>\n",
       "      <td>'0-2'</td>\n",
       "      <td>'no'</td>\n",
       "      <td>'2'</td>\n",
       "      <td>'left'</td>\n",
       "      <td>'left_low'</td>\n",
       "      <td>'no'</td>\n",
       "      <td>'recurrence-events'</td>\n",
       "    </tr>\n",
       "    <tr>\n",
       "      <td>3</td>\n",
       "      <td>'40-49'</td>\n",
       "      <td>'premeno'</td>\n",
       "      <td>'35-39'</td>\n",
       "      <td>'0-2'</td>\n",
       "      <td>'yes'</td>\n",
       "      <td>'3'</td>\n",
       "      <td>'right'</td>\n",
       "      <td>'left_low'</td>\n",
       "      <td>'yes'</td>\n",
       "      <td>'no-recurrence-events'</td>\n",
       "    </tr>\n",
       "    <tr>\n",
       "      <td>4</td>\n",
       "      <td>'40-49'</td>\n",
       "      <td>'premeno'</td>\n",
       "      <td>'30-34'</td>\n",
       "      <td>'3-5'</td>\n",
       "      <td>'yes'</td>\n",
       "      <td>'2'</td>\n",
       "      <td>'left'</td>\n",
       "      <td>'right_up'</td>\n",
       "      <td>'no'</td>\n",
       "      <td>'recurrence-events'</td>\n",
       "    </tr>\n",
       "  </tbody>\n",
       "</table>\n",
       "</div>"
      ],
      "text/plain": [
       "       age  menopause tumor_size inv_nodes node_caps deg_malig   breast  \\\n",
       "0  '40-49'  'premeno'    '15-19'     '0-2'     'yes'       '3'  'right'   \n",
       "1  '50-59'     'ge40'    '15-19'     '0-2'      'no'       '1'  'right'   \n",
       "2  '50-59'     'ge40'    '35-39'     '0-2'      'no'       '2'   'left'   \n",
       "3  '40-49'  'premeno'    '35-39'     '0-2'     'yes'       '3'  'right'   \n",
       "4  '40-49'  'premeno'    '30-34'     '3-5'     'yes'       '2'   'left'   \n",
       "\n",
       "  breast_quad irradiat                   class  \n",
       "0   'left_up'     'no'     'recurrence-events'  \n",
       "1   'central'     'no'  'no-recurrence-events'  \n",
       "2  'left_low'     'no'     'recurrence-events'  \n",
       "3  'left_low'    'yes'  'no-recurrence-events'  \n",
       "4  'right_up'     'no'     'recurrence-events'  "
      ]
     },
     "execution_count": 5,
     "metadata": {},
     "output_type": "execute_result"
    }
   ],
   "source": [
    "kan.head()"
   ]
  },
  {
   "cell_type": "code",
   "execution_count": null,
   "metadata": {
    "ExecuteTime": {
     "end_time": "2019-11-24T11:06:40.346333Z",
     "start_time": "2019-11-24T11:06:40.336360Z"
    },
    "scrolled": true
   },
   "outputs": [],
   "source": []
  },
  {
   "cell_type": "code",
   "execution_count": 6,
   "metadata": {},
   "outputs": [
    {
     "data": {
      "text/html": [
       "<div>\n",
       "<style scoped>\n",
       "    .dataframe tbody tr th:only-of-type {\n",
       "        vertical-align: middle;\n",
       "    }\n",
       "\n",
       "    .dataframe tbody tr th {\n",
       "        vertical-align: top;\n",
       "    }\n",
       "\n",
       "    .dataframe thead th {\n",
       "        text-align: right;\n",
       "    }\n",
       "</style>\n",
       "<table border=\"1\" class=\"dataframe\">\n",
       "  <thead>\n",
       "    <tr style=\"text-align: right;\">\n",
       "      <th></th>\n",
       "      <th>dataFeatures</th>\n",
       "      <th>dataType</th>\n",
       "      <th>null</th>\n",
       "      <th>nullPct</th>\n",
       "      <th>unique</th>\n",
       "      <th>uniqueSample</th>\n",
       "    </tr>\n",
       "  </thead>\n",
       "  <tbody>\n",
       "    <tr>\n",
       "      <td>0</td>\n",
       "      <td>age</td>\n",
       "      <td>object</td>\n",
       "      <td>0</td>\n",
       "      <td>0.00</td>\n",
       "      <td>6</td>\n",
       "      <td>['60-69', '60-69']</td>\n",
       "    </tr>\n",
       "    <tr>\n",
       "      <td>1</td>\n",
       "      <td>menopause</td>\n",
       "      <td>object</td>\n",
       "      <td>0</td>\n",
       "      <td>0.00</td>\n",
       "      <td>3</td>\n",
       "      <td>['premeno', 'premeno']</td>\n",
       "    </tr>\n",
       "    <tr>\n",
       "      <td>2</td>\n",
       "      <td>tumor_size</td>\n",
       "      <td>object</td>\n",
       "      <td>0</td>\n",
       "      <td>0.00</td>\n",
       "      <td>11</td>\n",
       "      <td>['50-54', '15-19']</td>\n",
       "    </tr>\n",
       "    <tr>\n",
       "      <td>3</td>\n",
       "      <td>inv_nodes</td>\n",
       "      <td>object</td>\n",
       "      <td>0</td>\n",
       "      <td>0.00</td>\n",
       "      <td>7</td>\n",
       "      <td>['0-2', '0-2']</td>\n",
       "    </tr>\n",
       "    <tr>\n",
       "      <td>4</td>\n",
       "      <td>node_caps</td>\n",
       "      <td>object</td>\n",
       "      <td>8</td>\n",
       "      <td>2.80</td>\n",
       "      <td>2</td>\n",
       "      <td>['no', 'no']</td>\n",
       "    </tr>\n",
       "    <tr>\n",
       "      <td>5</td>\n",
       "      <td>deg_malig</td>\n",
       "      <td>object</td>\n",
       "      <td>0</td>\n",
       "      <td>0.00</td>\n",
       "      <td>3</td>\n",
       "      <td>['1', '3']</td>\n",
       "    </tr>\n",
       "    <tr>\n",
       "      <td>6</td>\n",
       "      <td>breast</td>\n",
       "      <td>object</td>\n",
       "      <td>0</td>\n",
       "      <td>0.00</td>\n",
       "      <td>2</td>\n",
       "      <td>['left', 'left']</td>\n",
       "    </tr>\n",
       "    <tr>\n",
       "      <td>7</td>\n",
       "      <td>breast_quad</td>\n",
       "      <td>object</td>\n",
       "      <td>1</td>\n",
       "      <td>0.35</td>\n",
       "      <td>5</td>\n",
       "      <td>['central', 'left_low']</td>\n",
       "    </tr>\n",
       "    <tr>\n",
       "      <td>8</td>\n",
       "      <td>irradiat</td>\n",
       "      <td>object</td>\n",
       "      <td>0</td>\n",
       "      <td>0.00</td>\n",
       "      <td>2</td>\n",
       "      <td>['no', 'no']</td>\n",
       "    </tr>\n",
       "    <tr>\n",
       "      <td>9</td>\n",
       "      <td>class</td>\n",
       "      <td>object</td>\n",
       "      <td>0</td>\n",
       "      <td>0.00</td>\n",
       "      <td>2</td>\n",
       "      <td>['no-recurrence-events', 'recurrence-events']</td>\n",
       "    </tr>\n",
       "  </tbody>\n",
       "</table>\n",
       "</div>"
      ],
      "text/plain": [
       "  dataFeatures dataType  null  nullPct  unique  \\\n",
       "0          age   object     0     0.00       6   \n",
       "1    menopause   object     0     0.00       3   \n",
       "2   tumor_size   object     0     0.00      11   \n",
       "3    inv_nodes   object     0     0.00       7   \n",
       "4    node_caps   object     8     2.80       2   \n",
       "5    deg_malig   object     0     0.00       3   \n",
       "6       breast   object     0     0.00       2   \n",
       "7  breast_quad   object     1     0.35       5   \n",
       "8     irradiat   object     0     0.00       2   \n",
       "9        class   object     0     0.00       2   \n",
       "\n",
       "                                    uniqueSample  \n",
       "0                             ['60-69', '60-69']  \n",
       "1                         ['premeno', 'premeno']  \n",
       "2                             ['50-54', '15-19']  \n",
       "3                                 ['0-2', '0-2']  \n",
       "4                                   ['no', 'no']  \n",
       "5                                     ['1', '3']  \n",
       "6                               ['left', 'left']  \n",
       "7                        ['central', 'left_low']  \n",
       "8                                   ['no', 'no']  \n",
       "9  ['no-recurrence-events', 'recurrence-events']  "
      ]
     },
     "execution_count": 6,
     "metadata": {},
     "output_type": "execute_result"
    }
   ],
   "source": [
    "kanker = list()\n",
    "\n",
    "for i in kan:\n",
    "    kanker.append([i, kan[i].dtype,kan[i].isna().sum(),\n",
    "                 round(((kan[i].isna()).sum()/len(kan[i]))*100,2), \n",
    "                 kan[kan[i].notna()][i].nunique(), kan[i].sample(2).values])\n",
    "\n",
    "pd.DataFrame(kanker, columns = ['dataFeatures', 'dataType', 'null', 'nullPct', 'unique', 'uniqueSample'])"
   ]
  },
  {
   "cell_type": "code",
   "execution_count": null,
   "metadata": {
    "ExecuteTime": {
     "end_time": "2019-11-24T11:06:40.400190Z",
     "start_time": "2019-11-24T11:06:40.368281Z"
    },
    "scrolled": true
   },
   "outputs": [],
   "source": []
  },
  {
   "cell_type": "code",
   "execution_count": 7,
   "metadata": {},
   "outputs": [
    {
     "data": {
      "text/plain": [
       "age            0\n",
       "menopause      0\n",
       "tumor_size     0\n",
       "inv_nodes      0\n",
       "node_caps      8\n",
       "deg_malig      0\n",
       "breast         0\n",
       "breast_quad    1\n",
       "irradiat       0\n",
       "class          0\n",
       "dtype: int64"
      ]
     },
     "execution_count": 7,
     "metadata": {},
     "output_type": "execute_result"
    }
   ],
   "source": [
    "kan.isnull().sum()"
   ]
  },
  {
   "cell_type": "markdown",
   "metadata": {},
   "source": [
    "deg_malig is better converted into integer datatype, but we could not just replace it directly using astype so we need to use another method. Find out why you can't convert it directly. "
   ]
  },
  {
   "cell_type": "markdown",
   "metadata": {},
   "source": [
    "karena deg_malig isinya merupakan float dalam bentuk string, sehingga tidak bisa langsung diubah ke dalam bentuk int, harus diubah ke dalam btk float dulu. Selain itu bentuk string dalam deg_malig berupa tanda kutip 'angka' jd harus diubah dulu ke bentuk angka biasa(tanpa tanda kutip)"
   ]
  },
  {
   "cell_type": "code",
   "execution_count": 9,
   "metadata": {
    "ExecuteTime": {
     "end_time": "2019-11-24T11:10:07.690989Z",
     "start_time": "2019-11-24T11:10:07.687001Z"
    }
   },
   "outputs": [
    {
     "data": {
      "text/plain": [
       "array([\"'3'\", \"'1'\", \"'2'\"], dtype=object)"
      ]
     },
     "execution_count": 9,
     "metadata": {},
     "output_type": "execute_result"
    }
   ],
   "source": [
    "kan['deg_malig'].unique()"
   ]
  },
  {
   "cell_type": "code",
   "execution_count": 10,
   "metadata": {},
   "outputs": [
    {
     "data": {
      "text/plain": [
       "dtype('int32')"
      ]
     },
     "execution_count": 10,
     "metadata": {},
     "output_type": "execute_result"
    }
   ],
   "source": [
    "kan['deg_malig'].replace(\"'1'\",\"1\", inplace = True)\n",
    "kan['deg_malig'].replace(\"'2'\",\"2\", inplace = True)\n",
    "kan['deg_malig'].replace(\"'3'\",\"3\", inplace = True)\n",
    "kan['deg_malig'] = kan['deg_malig'].astype(str).astype(int)\n",
    "kan['deg_malig'].dtypes"
   ]
  },
  {
   "cell_type": "code",
   "execution_count": 11,
   "metadata": {},
   "outputs": [
    {
     "data": {
      "text/html": [
       "<div>\n",
       "<style scoped>\n",
       "    .dataframe tbody tr th:only-of-type {\n",
       "        vertical-align: middle;\n",
       "    }\n",
       "\n",
       "    .dataframe tbody tr th {\n",
       "        vertical-align: top;\n",
       "    }\n",
       "\n",
       "    .dataframe thead th {\n",
       "        text-align: right;\n",
       "    }\n",
       "</style>\n",
       "<table border=\"1\" class=\"dataframe\">\n",
       "  <thead>\n",
       "    <tr style=\"text-align: right;\">\n",
       "      <th></th>\n",
       "      <th>deg_malig</th>\n",
       "    </tr>\n",
       "  </thead>\n",
       "  <tbody>\n",
       "    <tr>\n",
       "      <td>count</td>\n",
       "      <td>286.000000</td>\n",
       "    </tr>\n",
       "    <tr>\n",
       "      <td>mean</td>\n",
       "      <td>2.048951</td>\n",
       "    </tr>\n",
       "    <tr>\n",
       "      <td>std</td>\n",
       "      <td>0.738217</td>\n",
       "    </tr>\n",
       "    <tr>\n",
       "      <td>min</td>\n",
       "      <td>1.000000</td>\n",
       "    </tr>\n",
       "    <tr>\n",
       "      <td>25%</td>\n",
       "      <td>2.000000</td>\n",
       "    </tr>\n",
       "    <tr>\n",
       "      <td>50%</td>\n",
       "      <td>2.000000</td>\n",
       "    </tr>\n",
       "    <tr>\n",
       "      <td>75%</td>\n",
       "      <td>3.000000</td>\n",
       "    </tr>\n",
       "    <tr>\n",
       "      <td>max</td>\n",
       "      <td>3.000000</td>\n",
       "    </tr>\n",
       "  </tbody>\n",
       "</table>\n",
       "</div>"
      ],
      "text/plain": [
       "        deg_malig\n",
       "count  286.000000\n",
       "mean     2.048951\n",
       "std      0.738217\n",
       "min      1.000000\n",
       "25%      2.000000\n",
       "50%      2.000000\n",
       "75%      3.000000\n",
       "max      3.000000"
      ]
     },
     "execution_count": 11,
     "metadata": {},
     "output_type": "execute_result"
    }
   ],
   "source": [
    "pd.DataFrame(kan['deg_malig'].describe())"
   ]
  },
  {
   "cell_type": "code",
   "execution_count": 12,
   "metadata": {},
   "outputs": [
    {
     "data": {
      "text/plain": [
       "<matplotlib.axes._subplots.AxesSubplot at 0x25559881588>"
      ]
     },
     "execution_count": 12,
     "metadata": {},
     "output_type": "execute_result"
    },
    {
     "data": {
      "image/png": "[encoded data removed]",
      "text/plain": [
       "<Figure size 432x288 with 1 Axes>"
      ]
     },
     "metadata": {
      "needs_background": "light"
     },
     "output_type": "display_data"
    }
   ],
   "source": [
    "sns.distplot(kan['deg_malig'])"
   ]
  },
  {
   "cell_type": "markdown",
   "metadata": {},
   "source": [
    "We have 2 columns that contain NaN value; node_caps and breast_quad. Let's acquire the dataframe that contain these NaN"
   ]
  },
  {
   "cell_type": "code",
   "execution_count": 13,
   "metadata": {
    "ExecuteTime": {
     "end_time": "2019-11-24T11:10:33.205897Z",
     "start_time": "2019-11-24T11:10:33.193923Z"
    }
   },
   "outputs": [
    {
     "data": {
      "text/html": [
       "<div>\n",
       "<style scoped>\n",
       "    .dataframe tbody tr th:only-of-type {\n",
       "        vertical-align: middle;\n",
       "    }\n",
       "\n",
       "    .dataframe tbody tr th {\n",
       "        vertical-align: top;\n",
       "    }\n",
       "\n",
       "    .dataframe thead th {\n",
       "        text-align: right;\n",
       "    }\n",
       "</style>\n",
       "<table border=\"1\" class=\"dataframe\">\n",
       "  <thead>\n",
       "    <tr style=\"text-align: right;\">\n",
       "      <th></th>\n",
       "      <th>age</th>\n",
       "      <th>menopause</th>\n",
       "      <th>tumor_size</th>\n",
       "      <th>inv_nodes</th>\n",
       "      <th>node_caps</th>\n",
       "      <th>deg_malig</th>\n",
       "      <th>breast</th>\n",
       "      <th>breast_quad</th>\n",
       "      <th>irradiat</th>\n",
       "      <th>class</th>\n",
       "    </tr>\n",
       "  </thead>\n",
       "  <tbody>\n",
       "    <tr>\n",
       "      <td>20</td>\n",
       "      <td>'50-59'</td>\n",
       "      <td>'lt40'</td>\n",
       "      <td>'20-24'</td>\n",
       "      <td>'0-2'</td>\n",
       "      <td>NaN</td>\n",
       "      <td>1</td>\n",
       "      <td>'left'</td>\n",
       "      <td>'left_low'</td>\n",
       "      <td>'no'</td>\n",
       "      <td>'recurrence-events'</td>\n",
       "    </tr>\n",
       "    <tr>\n",
       "      <td>31</td>\n",
       "      <td>'60-69'</td>\n",
       "      <td>'ge40'</td>\n",
       "      <td>'25-29'</td>\n",
       "      <td>'3-5'</td>\n",
       "      <td>NaN</td>\n",
       "      <td>1</td>\n",
       "      <td>'right'</td>\n",
       "      <td>'left_low'</td>\n",
       "      <td>'yes'</td>\n",
       "      <td>'no-recurrence-events'</td>\n",
       "    </tr>\n",
       "    <tr>\n",
       "      <td>50</td>\n",
       "      <td>'70-79'</td>\n",
       "      <td>'ge40'</td>\n",
       "      <td>'15-19'</td>\n",
       "      <td>'9-11'</td>\n",
       "      <td>NaN</td>\n",
       "      <td>1</td>\n",
       "      <td>'left'</td>\n",
       "      <td>'left_low'</td>\n",
       "      <td>'yes'</td>\n",
       "      <td>'recurrence-events'</td>\n",
       "    </tr>\n",
       "    <tr>\n",
       "      <td>54</td>\n",
       "      <td>'40-49'</td>\n",
       "      <td>'premeno'</td>\n",
       "      <td>'25-29'</td>\n",
       "      <td>'0-2'</td>\n",
       "      <td>NaN</td>\n",
       "      <td>2</td>\n",
       "      <td>'left'</td>\n",
       "      <td>'right_low'</td>\n",
       "      <td>'yes'</td>\n",
       "      <td>'no-recurrence-events'</td>\n",
       "    </tr>\n",
       "    <tr>\n",
       "      <td>71</td>\n",
       "      <td>'60-69'</td>\n",
       "      <td>'ge40'</td>\n",
       "      <td>'25-29'</td>\n",
       "      <td>'3-5'</td>\n",
       "      <td>NaN</td>\n",
       "      <td>1</td>\n",
       "      <td>'right'</td>\n",
       "      <td>'left_up'</td>\n",
       "      <td>'yes'</td>\n",
       "      <td>'no-recurrence-events'</td>\n",
       "    </tr>\n",
       "    <tr>\n",
       "      <td>92</td>\n",
       "      <td>'50-59'</td>\n",
       "      <td>'lt40'</td>\n",
       "      <td>'20-24'</td>\n",
       "      <td>'0-2'</td>\n",
       "      <td>NaN</td>\n",
       "      <td>1</td>\n",
       "      <td>'left'</td>\n",
       "      <td>'left_up'</td>\n",
       "      <td>'no'</td>\n",
       "      <td>'recurrence-events'</td>\n",
       "    </tr>\n",
       "    <tr>\n",
       "      <td>149</td>\n",
       "      <td>'50-59'</td>\n",
       "      <td>'ge40'</td>\n",
       "      <td>'30-34'</td>\n",
       "      <td>'9-11'</td>\n",
       "      <td>NaN</td>\n",
       "      <td>3</td>\n",
       "      <td>'left'</td>\n",
       "      <td>'left_up'</td>\n",
       "      <td>'yes'</td>\n",
       "      <td>'no-recurrence-events'</td>\n",
       "    </tr>\n",
       "    <tr>\n",
       "      <td>240</td>\n",
       "      <td>'50-59'</td>\n",
       "      <td>'ge40'</td>\n",
       "      <td>'30-34'</td>\n",
       "      <td>'0-2'</td>\n",
       "      <td>'no'</td>\n",
       "      <td>3</td>\n",
       "      <td>'left'</td>\n",
       "      <td>NaN</td>\n",
       "      <td>'no'</td>\n",
       "      <td>'recurrence-events'</td>\n",
       "    </tr>\n",
       "    <tr>\n",
       "      <td>264</td>\n",
       "      <td>'50-59'</td>\n",
       "      <td>'ge40'</td>\n",
       "      <td>'30-34'</td>\n",
       "      <td>'9-11'</td>\n",
       "      <td>NaN</td>\n",
       "      <td>3</td>\n",
       "      <td>'left'</td>\n",
       "      <td>'left_low'</td>\n",
       "      <td>'yes'</td>\n",
       "      <td>'no-recurrence-events'</td>\n",
       "    </tr>\n",
       "  </tbody>\n",
       "</table>\n",
       "</div>"
      ],
      "text/plain": [
       "         age  menopause tumor_size inv_nodes node_caps  deg_malig   breast  \\\n",
       "20   '50-59'     'lt40'    '20-24'     '0-2'       NaN          1   'left'   \n",
       "31   '60-69'     'ge40'    '25-29'     '3-5'       NaN          1  'right'   \n",
       "50   '70-79'     'ge40'    '15-19'    '9-11'       NaN          1   'left'   \n",
       "54   '40-49'  'premeno'    '25-29'     '0-2'       NaN          2   'left'   \n",
       "71   '60-69'     'ge40'    '25-29'     '3-5'       NaN          1  'right'   \n",
       "92   '50-59'     'lt40'    '20-24'     '0-2'       NaN          1   'left'   \n",
       "149  '50-59'     'ge40'    '30-34'    '9-11'       NaN          3   'left'   \n",
       "240  '50-59'     'ge40'    '30-34'     '0-2'      'no'          3   'left'   \n",
       "264  '50-59'     'ge40'    '30-34'    '9-11'       NaN          3   'left'   \n",
       "\n",
       "     breast_quad irradiat                   class  \n",
       "20    'left_low'     'no'     'recurrence-events'  \n",
       "31    'left_low'    'yes'  'no-recurrence-events'  \n",
       "50    'left_low'    'yes'     'recurrence-events'  \n",
       "54   'right_low'    'yes'  'no-recurrence-events'  \n",
       "71     'left_up'    'yes'  'no-recurrence-events'  \n",
       "92     'left_up'     'no'     'recurrence-events'  \n",
       "149    'left_up'    'yes'  'no-recurrence-events'  \n",
       "240          NaN     'no'     'recurrence-events'  \n",
       "264   'left_low'    'yes'  'no-recurrence-events'  "
      ]
     },
     "execution_count": 13,
     "metadata": {},
     "output_type": "execute_result"
    }
   ],
   "source": [
    "kan[(kan['node_caps'].isna() | (kan['breast_quad'].isna()))]"
   ]
  },
  {
   "cell_type": "markdown",
   "metadata": {},
   "source": [
    "To make things easier, let's just fill the NaN value with the mode. "
   ]
  },
  {
   "cell_type": "code",
   "execution_count": 14,
   "metadata": {
    "ExecuteTime": {
     "end_time": "2019-11-24T11:19:21.754707Z",
     "start_time": "2019-11-24T11:19:21.747725Z"
    }
   },
   "outputs": [],
   "source": [
    "for column in ['node_caps','breast_quad']:\n",
    "    kan[column].fillna(kan[column].mode()[0], inplace=True)"
   ]
  },
  {
   "cell_type": "code",
   "execution_count": 15,
   "metadata": {},
   "outputs": [
    {
     "data": {
      "text/html": [
       "<div>\n",
       "<style scoped>\n",
       "    .dataframe tbody tr th:only-of-type {\n",
       "        vertical-align: middle;\n",
       "    }\n",
       "\n",
       "    .dataframe tbody tr th {\n",
       "        vertical-align: top;\n",
       "    }\n",
       "\n",
       "    .dataframe thead th {\n",
       "        text-align: right;\n",
       "    }\n",
       "</style>\n",
       "<table border=\"1\" class=\"dataframe\">\n",
       "  <thead>\n",
       "    <tr style=\"text-align: right;\">\n",
       "      <th></th>\n",
       "      <th>age</th>\n",
       "      <th>menopause</th>\n",
       "      <th>tumor_size</th>\n",
       "      <th>inv_nodes</th>\n",
       "      <th>node_caps</th>\n",
       "      <th>deg_malig</th>\n",
       "      <th>breast</th>\n",
       "      <th>breast_quad</th>\n",
       "      <th>irradiat</th>\n",
       "      <th>class</th>\n",
       "    </tr>\n",
       "  </thead>\n",
       "  <tbody>\n",
       "  </tbody>\n",
       "</table>\n",
       "</div>"
      ],
      "text/plain": [
       "Empty DataFrame\n",
       "Columns: [age, menopause, tumor_size, inv_nodes, node_caps, deg_malig, breast, breast_quad, irradiat, class]\n",
       "Index: []"
      ]
     },
     "execution_count": 15,
     "metadata": {},
     "output_type": "execute_result"
    }
   ],
   "source": [
    "kan[(kan['breast_quad'].isna())]"
   ]
  },
  {
   "cell_type": "markdown",
   "metadata": {},
   "source": [
    "Let's visualize using countplot for every categorical columns. Don't forget to add plt.show() after every iteration"
   ]
  },
  {
   "cell_type": "code",
   "execution_count": 16,
   "metadata": {
    "scrolled": true
   },
   "outputs": [
    {
     "data": {
      "image/png": "[encoded data removed]",
      "text/plain": [
       "<Figure size 432x288 with 1 Axes>"
      ]
     },
     "metadata": {
      "needs_background": "light"
     },
     "output_type": "display_data"
    },
    {
     "data": {
      "image/png": "[encoded data removed]",
      "text/plain": [
       "<Figure size 432x288 with 1 Axes>"
      ]
     },
     "metadata": {
      "needs_background": "light"
     },
     "output_type": "display_data"
    },
    {
     "data": {
      "image/png": "[encoded data removed]",
      "text/plain": [
       "<Figure size 432x288 with 1 Axes>"
      ]
     },
     "metadata": {
      "needs_background": "light"
     },
     "output_type": "display_data"
    },
    {
     "data": {
      "image/png": "[encoded data removed]",
      "text/plain": [
       "<Figure size 432x288 with 1 Axes>"
      ]
     },
     "metadata": {
      "needs_background": "light"
     },
     "output_type": "display_data"
    },
    {
     "data": {
      "image/png": "[encoded data removed]",
      "text/plain": [
       "<Figure size 432x288 with 1 Axes>"
      ]
     },
     "metadata": {
      "needs_background": "light"
     },
     "output_type": "display_data"
    },
    {
     "data": {
      "image/png": "[encoded data removed]",
      "text/plain": [
       "<Figure size 432x288 with 1 Axes>"
      ]
     },
     "metadata": {
      "needs_background": "light"
     },
     "output_type": "display_data"
    },
    {
     "data": {
      "image/png": "[encoded data removed]",
      "text/plain": [
       "<Figure size 432x288 with 1 Axes>"
      ]
     },
     "metadata": {
      "needs_background": "light"
     },
     "output_type": "display_data"
    },
    {
     "data": {
      "image/png": "[encoded data removed]",
      "text/plain": [
       "<Figure size 432x288 with 1 Axes>"
      ]
     },
     "metadata": {
      "needs_background": "light"
     },
     "output_type": "display_data"
    },
    {
     "data": {
      "image/png": "[encoded data removed]",
      "text/plain": [
       "<Figure size 432x288 with 1 Axes>"
      ]
     },
     "metadata": {
      "needs_background": "light"
     },
     "output_type": "display_data"
    },
    {
     "data": {
      "image/png": "[encoded data removed]",
      "text/plain": [
       "<Figure size 432x288 with 1 Axes>"
      ]
     },
     "metadata": {
      "needs_background": "light"
     },
     "output_type": "display_data"
    }
   ],
   "source": [
    "for i in kan.columns:\n",
    "    sns.countplot(x=i,data=kan)\n",
    "    plt.title(\"Countplot of {}\".format(i))\n",
    "    plt.show()\n",
    "    "
   ]
  },
  {
   "cell_type": "code",
   "execution_count": null,
   "metadata": {
    "ExecuteTime": {
     "end_time": "2019-11-24T11:30:18.460352Z",
     "start_time": "2019-11-24T11:30:17.521862Z"
    }
   },
   "outputs": [],
   "source": []
  },
  {
   "cell_type": "markdown",
   "metadata": {},
   "source": [
    "## Question 1\n",
    "\n",
    "Is there any interesting pattern you could find from the plot above? "
   ]
  },
  {
   "cell_type": "raw",
   "metadata": {},
   "source": [
    "Now, let's prepare the dataset to be processed for machine learning activity. Like usual, use the get_dummies for all the columns (including the deg_malig that we previously converted into integer) except the class as it was the target. Don't forget to drop_first = True. For the target, let's use the LabelEncoder to change the value into numerical value"
   ]
  },
  {
   "cell_type": "code",
   "execution_count": null,
   "metadata": {},
   "outputs": [],
   "source": []
  },
  {
   "cell_type": "code",
   "execution_count": 17,
   "metadata": {
    "ExecuteTime": {
     "end_time": "2019-11-24T12:55:37.101530Z",
     "start_time": "2019-11-24T12:55:37.084572Z"
    }
   },
   "outputs": [
    {
     "data": {
      "text/html": [
       "<div>\n",
       "<style scoped>\n",
       "    .dataframe tbody tr th:only-of-type {\n",
       "        vertical-align: middle;\n",
       "    }\n",
       "\n",
       "    .dataframe tbody tr th {\n",
       "        vertical-align: top;\n",
       "    }\n",
       "\n",
       "    .dataframe thead th {\n",
       "        text-align: right;\n",
       "    }\n",
       "</style>\n",
       "<table border=\"1\" class=\"dataframe\">\n",
       "  <thead>\n",
       "    <tr style=\"text-align: right;\">\n",
       "      <th></th>\n",
       "      <th>age_'30-39'</th>\n",
       "      <th>age_'40-49'</th>\n",
       "      <th>age_'50-59'</th>\n",
       "      <th>age_'60-69'</th>\n",
       "      <th>age_'70-79'</th>\n",
       "      <th>menopause_'lt40'</th>\n",
       "      <th>menopause_'premeno'</th>\n",
       "      <th>tumor_size_'10-14'</th>\n",
       "      <th>tumor_size_'15-19'</th>\n",
       "      <th>tumor_size_'20-24'</th>\n",
       "      <th>...</th>\n",
       "      <th>inv_nodes_'9-11'</th>\n",
       "      <th>node_caps_'yes'</th>\n",
       "      <th>deg_malig_2</th>\n",
       "      <th>deg_malig_3</th>\n",
       "      <th>breast_'right'</th>\n",
       "      <th>breast_quad_'left_low'</th>\n",
       "      <th>breast_quad_'left_up'</th>\n",
       "      <th>breast_quad_'right_low'</th>\n",
       "      <th>breast_quad_'right_up'</th>\n",
       "      <th>irradiat_'yes'</th>\n",
       "    </tr>\n",
       "  </thead>\n",
       "  <tbody>\n",
       "    <tr>\n",
       "      <td>0</td>\n",
       "      <td>0</td>\n",
       "      <td>1</td>\n",
       "      <td>0</td>\n",
       "      <td>0</td>\n",
       "      <td>0</td>\n",
       "      <td>0</td>\n",
       "      <td>1</td>\n",
       "      <td>0</td>\n",
       "      <td>1</td>\n",
       "      <td>0</td>\n",
       "      <td>...</td>\n",
       "      <td>0</td>\n",
       "      <td>1</td>\n",
       "      <td>0</td>\n",
       "      <td>1</td>\n",
       "      <td>1</td>\n",
       "      <td>0</td>\n",
       "      <td>1</td>\n",
       "      <td>0</td>\n",
       "      <td>0</td>\n",
       "      <td>0</td>\n",
       "    </tr>\n",
       "    <tr>\n",
       "      <td>1</td>\n",
       "      <td>0</td>\n",
       "      <td>0</td>\n",
       "      <td>1</td>\n",
       "      <td>0</td>\n",
       "      <td>0</td>\n",
       "      <td>0</td>\n",
       "      <td>0</td>\n",
       "      <td>0</td>\n",
       "      <td>1</td>\n",
       "      <td>0</td>\n",
       "      <td>...</td>\n",
       "      <td>0</td>\n",
       "      <td>0</td>\n",
       "      <td>0</td>\n",
       "      <td>0</td>\n",
       "      <td>1</td>\n",
       "      <td>0</td>\n",
       "      <td>0</td>\n",
       "      <td>0</td>\n",
       "      <td>0</td>\n",
       "      <td>0</td>\n",
       "    </tr>\n",
       "    <tr>\n",
       "      <td>2</td>\n",
       "      <td>0</td>\n",
       "      <td>0</td>\n",
       "      <td>1</td>\n",
       "      <td>0</td>\n",
       "      <td>0</td>\n",
       "      <td>0</td>\n",
       "      <td>0</td>\n",
       "      <td>0</td>\n",
       "      <td>0</td>\n",
       "      <td>0</td>\n",
       "      <td>...</td>\n",
       "      <td>0</td>\n",
       "      <td>0</td>\n",
       "      <td>1</td>\n",
       "      <td>0</td>\n",
       "      <td>0</td>\n",
       "      <td>1</td>\n",
       "      <td>0</td>\n",
       "      <td>0</td>\n",
       "      <td>0</td>\n",
       "      <td>0</td>\n",
       "    </tr>\n",
       "    <tr>\n",
       "      <td>3</td>\n",
       "      <td>0</td>\n",
       "      <td>1</td>\n",
       "      <td>0</td>\n",
       "      <td>0</td>\n",
       "      <td>0</td>\n",
       "      <td>0</td>\n",
       "      <td>1</td>\n",
       "      <td>0</td>\n",
       "      <td>0</td>\n",
       "      <td>0</td>\n",
       "      <td>...</td>\n",
       "      <td>0</td>\n",
       "      <td>1</td>\n",
       "      <td>0</td>\n",
       "      <td>1</td>\n",
       "      <td>1</td>\n",
       "      <td>1</td>\n",
       "      <td>0</td>\n",
       "      <td>0</td>\n",
       "      <td>0</td>\n",
       "      <td>1</td>\n",
       "    </tr>\n",
       "    <tr>\n",
       "      <td>4</td>\n",
       "      <td>0</td>\n",
       "      <td>1</td>\n",
       "      <td>0</td>\n",
       "      <td>0</td>\n",
       "      <td>0</td>\n",
       "      <td>0</td>\n",
       "      <td>1</td>\n",
       "      <td>0</td>\n",
       "      <td>0</td>\n",
       "      <td>0</td>\n",
       "      <td>...</td>\n",
       "      <td>0</td>\n",
       "      <td>1</td>\n",
       "      <td>1</td>\n",
       "      <td>0</td>\n",
       "      <td>0</td>\n",
       "      <td>0</td>\n",
       "      <td>0</td>\n",
       "      <td>0</td>\n",
       "      <td>1</td>\n",
       "      <td>0</td>\n",
       "    </tr>\n",
       "  </tbody>\n",
       "</table>\n",
       "<p>5 rows × 32 columns</p>\n",
       "</div>"
      ],
      "text/plain": [
       "   age_'30-39'  age_'40-49'  age_'50-59'  age_'60-69'  age_'70-79'  \\\n",
       "0            0            1            0            0            0   \n",
       "1            0            0            1            0            0   \n",
       "2            0            0            1            0            0   \n",
       "3            0            1            0            0            0   \n",
       "4            0            1            0            0            0   \n",
       "\n",
       "   menopause_'lt40'  menopause_'premeno'  tumor_size_'10-14'  \\\n",
       "0                 0                    1                   0   \n",
       "1                 0                    0                   0   \n",
       "2                 0                    0                   0   \n",
       "3                 0                    1                   0   \n",
       "4                 0                    1                   0   \n",
       "\n",
       "   tumor_size_'15-19'  tumor_size_'20-24'  ...  inv_nodes_'9-11'  \\\n",
       "0                   1                   0  ...                 0   \n",
       "1                   1                   0  ...                 0   \n",
       "2                   0                   0  ...                 0   \n",
       "3                   0                   0  ...                 0   \n",
       "4                   0                   0  ...                 0   \n",
       "\n",
       "   node_caps_'yes'  deg_malig_2  deg_malig_3  breast_'right'  \\\n",
       "0                1            0            1               1   \n",
       "1                0            0            0               1   \n",
       "2                0            1            0               0   \n",
       "3                1            0            1               1   \n",
       "4                1            1            0               0   \n",
       "\n",
       "   breast_quad_'left_low'  breast_quad_'left_up'  breast_quad_'right_low'  \\\n",
       "0                       0                      1                        0   \n",
       "1                       0                      0                        0   \n",
       "2                       1                      0                        0   \n",
       "3                       1                      0                        0   \n",
       "4                       0                      0                        0   \n",
       "\n",
       "   breast_quad_'right_up'  irradiat_'yes'  \n",
       "0                       0               0  \n",
       "1                       0               0  \n",
       "2                       0               0  \n",
       "3                       0               1  \n",
       "4                       1               0  \n",
       "\n",
       "[5 rows x 32 columns]"
      ]
     },
     "execution_count": 17,
     "metadata": {},
     "output_type": "execute_result"
    }
   ],
   "source": [
    "kanker = pd.get_dummies(data = kan , columns= ['age', 'menopause', 'tumor_size', 'inv_nodes', 'node_caps', 'deg_malig',\n",
    "                                                'breast', 'breast_quad', 'irradiat'], drop_first = True)\n",
    "kanker.drop('class', axis = 1, inplace = True)\n",
    "kanker.head()"
   ]
  },
  {
   "cell_type": "code",
   "execution_count": 18,
   "metadata": {},
   "outputs": [
    {
     "name": "stdout",
     "output_type": "stream",
     "text": [
      "<class 'pandas.core.frame.DataFrame'>\n",
      "RangeIndex: 286 entries, 0 to 285\n",
      "Data columns (total 32 columns):\n",
      "age_'30-39'                286 non-null uint8\n",
      "age_'40-49'                286 non-null uint8\n",
      "age_'50-59'                286 non-null uint8\n",
      "age_'60-69'                286 non-null uint8\n",
      "age_'70-79'                286 non-null uint8\n",
      "menopause_'lt40'           286 non-null uint8\n",
      "menopause_'premeno'        286 non-null uint8\n",
      "tumor_size_'10-14'         286 non-null uint8\n",
      "tumor_size_'15-19'         286 non-null uint8\n",
      "tumor_size_'20-24'         286 non-null uint8\n",
      "tumor_size_'25-29'         286 non-null uint8\n",
      "tumor_size_'30-34'         286 non-null uint8\n",
      "tumor_size_'35-39'         286 non-null uint8\n",
      "tumor_size_'40-44'         286 non-null uint8\n",
      "tumor_size_'45-49'         286 non-null uint8\n",
      "tumor_size_'5-9'           286 non-null uint8\n",
      "tumor_size_'50-54'         286 non-null uint8\n",
      "inv_nodes_'12-14'          286 non-null uint8\n",
      "inv_nodes_'15-17'          286 non-null uint8\n",
      "inv_nodes_'24-26'          286 non-null uint8\n",
      "inv_nodes_'3-5'            286 non-null uint8\n",
      "inv_nodes_'6-8'            286 non-null uint8\n",
      "inv_nodes_'9-11'           286 non-null uint8\n",
      "node_caps_'yes'            286 non-null uint8\n",
      "deg_malig_2                286 non-null uint8\n",
      "deg_malig_3                286 non-null uint8\n",
      "breast_'right'             286 non-null uint8\n",
      "breast_quad_'left_low'     286 non-null uint8\n",
      "breast_quad_'left_up'      286 non-null uint8\n",
      "breast_quad_'right_low'    286 non-null uint8\n",
      "breast_quad_'right_up'     286 non-null uint8\n",
      "irradiat_'yes'             286 non-null uint8\n",
      "dtypes: uint8(32)\n",
      "memory usage: 9.1 KB\n"
     ]
    }
   ],
   "source": [
    "kanker.info()"
   ]
  },
  {
   "cell_type": "code",
   "execution_count": 19,
   "metadata": {
    "ExecuteTime": {
     "end_time": "2019-11-24T12:55:37.351850Z",
     "start_time": "2019-11-24T12:55:37.328914Z"
    }
   },
   "outputs": [
    {
     "data": {
      "text/plain": [
       "0      1\n",
       "1      0\n",
       "2      1\n",
       "3      0\n",
       "4      1\n",
       "      ..\n",
       "281    0\n",
       "282    0\n",
       "283    0\n",
       "284    0\n",
       "285    0\n",
       "Length: 286, dtype: int32"
      ]
     },
     "execution_count": 19,
     "metadata": {},
     "output_type": "execute_result"
    }
   ],
   "source": [
    "from sklearn import preprocessing \n",
    "label_encoder = preprocessing.LabelEncoder()\n",
    "kelas= kan['class']\n",
    "kelas= label_encoder.fit_transform(kelas) \n",
    "kelas=pd.Series(kelas)\n",
    "kelas"
   ]
  },
  {
   "cell_type": "markdown",
   "metadata": {},
   "source": [
    "## Unsupervised Learning\n",
    "\n",
    "We have lot of feature to be put into our unsupervised model, because of that let's use PCA to reduce our feature to 2 feature with random_state = 101. PC1 and PC2. "
   ]
  },
  {
   "cell_type": "code",
   "execution_count": 20,
   "metadata": {},
   "outputs": [],
   "source": [
    "from sklearn.decomposition import PCA"
   ]
  },
  {
   "cell_type": "code",
   "execution_count": 21,
   "metadata": {},
   "outputs": [],
   "source": [
    "pca = PCA(n_components=2, random_state = 101)"
   ]
  },
  {
   "cell_type": "code",
   "execution_count": 22,
   "metadata": {},
   "outputs": [
    {
     "data": {
      "text/plain": [
       "PCA(copy=True, iterated_power='auto', n_components=2, random_state=101,\n",
       "    svd_solver='auto', tol=0.0, whiten=False)"
      ]
     },
     "execution_count": 22,
     "metadata": {},
     "output_type": "execute_result"
    }
   ],
   "source": [
    "pca.fit(kanker)"
   ]
  },
  {
   "cell_type": "code",
   "execution_count": 23,
   "metadata": {},
   "outputs": [],
   "source": [
    "x_pca = pca.transform(kanker)"
   ]
  },
  {
   "cell_type": "code",
   "execution_count": 24,
   "metadata": {},
   "outputs": [
    {
     "data": {
      "text/plain": [
       "(286, 2)"
      ]
     },
     "execution_count": 24,
     "metadata": {},
     "output_type": "execute_result"
    }
   ],
   "source": [
    "x_pca.shape"
   ]
  },
  {
   "cell_type": "code",
   "execution_count": 25,
   "metadata": {},
   "outputs": [
    {
     "data": {
      "text/plain": [
       "array([[ 0.52060902,  0.83817   ],\n",
       "       [-0.62875887,  0.32544391],\n",
       "       [-0.5643413 , -0.82460214],\n",
       "       [ 0.43847924, -0.34221498],\n",
       "       [ 0.92554933, -0.23070265],\n",
       "       [ 0.47412222,  0.66381068],\n",
       "       [-1.04616987,  0.628298  ],\n",
       "       [ 0.98311406,  0.21277087],\n",
       "       [ 1.19009535,  0.04161387],\n",
       "       [ 0.62983871,  0.85555378],\n",
       "       [ 0.03783816, -1.01219178],\n",
       "       [-0.10925996,  0.89755814],\n",
       "       [-0.65874286,  0.42016036],\n",
       "       [-0.15158229,  0.79249303],\n",
       "       [ 0.91338587, -1.03412443],\n",
       "       [-0.03210715, -0.16595912],\n",
       "       [ 0.02323869,  0.80044519],\n",
       "       [-0.10925996,  0.89755814],\n",
       "       [ 0.13706441,  0.27241129],\n",
       "       [-0.9645874 ,  0.62547666],\n",
       "       [-0.90057753, -0.68355754],\n",
       "       [-0.03409003,  0.9748013 ],\n",
       "       [-0.39650977, -0.40758349],\n",
       "       [ 0.83417263,  0.75520516],\n",
       "       [-0.25392838, -0.82796029],\n",
       "       [-0.13713349,  0.88261721],\n",
       "       [-0.36782266, -0.37667308],\n",
       "       [ 0.83417263,  0.75520516],\n",
       "       [-1.13261893, -0.43280916],\n",
       "       [ 0.13893044, -0.81385223],\n",
       "       [-0.80662244,  0.60871595],\n",
       "       [-0.48712922, -0.20469066],\n",
       "       [-0.97792982,  0.02807292],\n",
       "       [-0.75971589,  1.06279984],\n",
       "       [ 0.45146024, -0.81900147],\n",
       "       [ 0.02252098, -0.9437757 ],\n",
       "       [ 1.18798557,  0.65009404],\n",
       "       [-1.00887466,  0.1093476 ],\n",
       "       [-0.30346749, -0.6265103 ],\n",
       "       [ 0.83278236,  0.14424164],\n",
       "       [-0.20876963, -0.82468531],\n",
       "       [ 1.22855872,  0.15474056],\n",
       "       [-0.19793005, -0.33310915],\n",
       "       [-0.75860951,  0.55552028],\n",
       "       [ 0.02252098, -0.9437757 ],\n",
       "       [-0.52495176, -0.01390497],\n",
       "       [-0.03294383,  0.94315095],\n",
       "       [ 0.60527802,  0.87315693],\n",
       "       [ 0.40152816,  0.73409369],\n",
       "       [-0.84129836,  1.06562117],\n",
       "       [-0.58509724, -0.69633422],\n",
       "       [-0.91936047,  1.11152542],\n",
       "       [ 0.31923562, -0.16830443],\n",
       "       [-0.2503019 ,  0.4481458 ],\n",
       "       [ 1.07879438, -0.42971603],\n",
       "       [-0.80028   ,  1.01215224],\n",
       "       [-0.30196484, -0.84067084],\n",
       "       [-1.19649312, -0.6200323 ],\n",
       "       [-0.54379111,  0.43042883],\n",
       "       [ 0.73495643,  0.04974639],\n",
       "       [-1.22108741, -0.57004436],\n",
       "       [ 1.177611  ,  0.19758858],\n",
       "       [-0.1366687 ,  0.58886161],\n",
       "       [ 0.10894645, -0.71913578],\n",
       "       [ 0.69034635,  0.82228781],\n",
       "       [-0.62875887,  0.32544391],\n",
       "       [ 0.65933413, -0.62685903],\n",
       "       [-0.48093026, -0.75513694],\n",
       "       [ 0.35436879,  0.73588581],\n",
       "       [ 0.25607961, -0.47554212],\n",
       "       [-0.53623752, -0.76989804],\n",
       "       [-0.32033043,  1.01068125],\n",
       "       [-0.60118457, -0.18179225],\n",
       "       [-1.14384807,  0.0604623 ],\n",
       "       [-0.01039117, -0.23884729],\n",
       "       [-0.92650711, -0.70888514],\n",
       "       [-0.39410348, -0.89178528],\n",
       "       [ 1.1921922 ,  0.01643263],\n",
       "       [ 0.41107963, -0.16053186],\n",
       "       [-0.19432419,  0.46362782],\n",
       "       [-0.63890324, -0.83978309],\n",
       "       [ 1.07062837, -0.61148366],\n",
       "       [ 0.77550153,  0.8190112 ],\n",
       "       [-0.26650246,  0.47491737],\n",
       "       [ 0.73495643,  0.04974639],\n",
       "       [-1.01968605,  0.59466675],\n",
       "       [ 0.81604169,  0.77823053],\n",
       "       [ 0.81801416,  0.60554242],\n",
       "       [-0.65818407, -0.25135793],\n",
       "       [-0.81837943,  0.57029281],\n",
       "       [-0.37093425,  1.0537837 ],\n",
       "       [ 0.16049045,  0.92572908],\n",
       "       [-0.73377875,  0.53181437],\n",
       "       [ 0.36006687,  0.6867091 ],\n",
       "       [-0.13757235,  0.85890286],\n",
       "       [ 0.86364023, -0.9885049 ],\n",
       "       [ 0.19987593,  0.32553198],\n",
       "       [-0.36541637, -0.86087487],\n",
       "       [-0.71375848,  1.21085398],\n",
       "       [ 0.84252551,  0.74459928],\n",
       "       [ 0.92783466, -0.94400025],\n",
       "       [-0.04029054, -0.99689639],\n",
       "       [-1.0486373 , -0.10897006],\n",
       "       [-0.22199283,  0.51134941],\n",
       "       [ 0.69136237, -0.2728775 ],\n",
       "       [-0.34128255,  0.00589255],\n",
       "       [-0.32417786, -0.68071512],\n",
       "       [ 0.20530447, -0.32781379],\n",
       "       [-0.61284039,  0.47662207],\n",
       "       [ 1.0451753 , -0.37798861],\n",
       "       [-0.46307289,  1.00266926],\n",
       "       [-0.46328524, -0.64573808],\n",
       "       [ 0.51314871,  0.26120154],\n",
       "       [ 0.20169813,  0.35395448],\n",
       "       [-0.67944736,  0.00278234],\n",
       "       [-0.63925729,  0.59625649],\n",
       "       [ 0.45142316,  0.92014421],\n",
       "       [-0.63925729,  0.59625649],\n",
       "       [ 1.2278912 ,  0.68573447],\n",
       "       [ 0.73082537, -0.43996272],\n",
       "       [ 0.49129255,  0.40189253],\n",
       "       [ 0.18809105,  0.21826951],\n",
       "       [ 0.78762816, -1.03351144],\n",
       "       [-0.22484589, -0.79312141],\n",
       "       [ 0.57042954, -0.41356802],\n",
       "       [-0.7803067 , -0.20775592],\n",
       "       [-0.34411546,  0.55495142],\n",
       "       [-0.40280156, -0.77043233],\n",
       "       [ 0.95442694,  0.18186046],\n",
       "       [-0.27605875, -0.31781376],\n",
       "       [ 0.92305268, -0.3343866 ],\n",
       "       [ 0.70749829,  0.14805379],\n",
       "       [ 0.50783845,  0.38680315],\n",
       "       [ 1.07062837, -0.61148366],\n",
       "       [-0.27579361, -0.75027339],\n",
       "       [ 0.22739249, -0.50645253],\n",
       "       [-0.5965717 ,  0.35883766],\n",
       "       [-0.92300705, -0.7064018 ],\n",
       "       [-0.69233821,  1.14997834],\n",
       "       [-0.30252363, -0.16915254],\n",
       "       [-0.98691398, -0.47437093],\n",
       "       [ 1.03255564,  0.16656507],\n",
       "       [ 1.14629922,  0.72252506],\n",
       "       [ 0.05228695, -0.9220676 ],\n",
       "       [-0.44873434, -0.18721859],\n",
       "       [-0.63374697, -0.76208901],\n",
       "       [ 0.76611888,  0.72968164],\n",
       "       [-0.80605608, -0.61911542],\n",
       "       [ 1.00305584, -0.5422525 ],\n",
       "       [-1.03861138,  0.7002356 ],\n",
       "       [ 1.07919397, -0.53298265],\n",
       "       [-0.22904347,  0.27679451],\n",
       "       [-0.59038627, -0.76725654],\n",
       "       [-0.11961306, -0.82188847],\n",
       "       [-0.45224315, -0.72422653],\n",
       "       [-0.67611172,  0.07038614],\n",
       "       [ 0.51314871,  0.26120154],\n",
       "       [ 0.46891141, -0.97405802],\n",
       "       [-0.55483681,  0.94380994],\n",
       "       [-0.6532748 ,  1.08615973],\n",
       "       [-0.77328697,  1.02010436],\n",
       "       [ 0.88524109,  0.26383468],\n",
       "       [-0.44186497, -0.70661373],\n",
       "       [-0.69241807, -0.69828296],\n",
       "       [-0.03398221, -0.16587974],\n",
       "       [-0.47407552, -0.12875227],\n",
       "       [-0.01347899,  0.35989381],\n",
       "       [ 1.00133063, -0.35448072],\n",
       "       [ 1.04656558,  0.2329749 ],\n",
       "       [ 0.82669344, -0.98498823],\n",
       "       [-0.1828073 ,  0.27144724],\n",
       "       [-0.86485377,  1.11502682],\n",
       "       [ 0.30466611, -0.8968171 ],\n",
       "       [ 0.05569552,  0.74561442],\n",
       "       [ 0.59577895,  0.91541315],\n",
       "       [ 1.2514371 ,  0.67029808],\n",
       "       [ 1.26842185,  0.67892305],\n",
       "       [ 0.59920736,  0.83934913],\n",
       "       [ 1.07062837, -0.61148366],\n",
       "       [ 0.89829168,  0.24441528],\n",
       "       [ 0.7592279 ,  0.12675012],\n",
       "       [-0.91570665,  0.7120719 ],\n",
       "       [ 0.47085521, -0.90809581],\n",
       "       [-1.23652407, -0.53766826],\n",
       "       [ 0.51517623, -0.88882604],\n",
       "       [-0.66933468, -0.04561743],\n",
       "       [ 0.50783845,  0.38680315],\n",
       "       [ 0.4104121 ,  0.37046205],\n",
       "       [-0.19531146,  0.30168639],\n",
       "       [ 0.40811818,  0.02953979],\n",
       "       [ 0.20530447, -0.32781379],\n",
       "       [ 0.86394428, -0.98791863],\n",
       "       [-1.12178157, -0.5285883 ],\n",
       "       [-0.02256566,  0.96076376],\n",
       "       [ 1.23742716,  0.60388825],\n",
       "       [ 0.81189265,  0.07609206],\n",
       "       [ 0.36420729,  0.80363583],\n",
       "       [-0.90224913, -0.5501858 ],\n",
       "       [ 0.58921291,  0.23269345],\n",
       "       [-0.80606364, -0.06280235],\n",
       "       [ 0.57547442, -0.41958654],\n",
       "       [ 0.30229941,  0.48047389],\n",
       "       [-1.13305779, -0.45652351],\n",
       "       [ 0.88222394,  0.09803585],\n",
       "       [ 0.67735243, -0.33928733],\n",
       "       [-0.88720726, -0.03626666],\n",
       "       [-0.52325259, -0.86020205],\n",
       "       [-0.27311876,  0.96909453],\n",
       "       [-0.40860537, -0.57428331],\n",
       "       [ 0.76444444, -0.49169014],\n",
       "       [-0.11516654, -0.05284601],\n",
       "       [ 0.44437139, -0.87446456],\n",
       "       [ 0.87976679, -0.98239701],\n",
       "       [-0.71165701, -0.15068255],\n",
       "       [ 1.2514371 ,  0.67029808],\n",
       "       [-0.25096942,  0.97913971],\n",
       "       [-0.85814631,  0.64883656],\n",
       "       [ 0.03783816, -1.01219178],\n",
       "       [-0.3863933 ,  0.51668189],\n",
       "       [-0.15411824,  0.87399224],\n",
       "       [-0.87706552, -0.75509094],\n",
       "       [-0.9645874 ,  0.62547666],\n",
       "       [ 1.10162306, -0.53644885],\n",
       "       [-0.39754251,  0.39076977],\n",
       "       [ 0.06075681,  0.43617891],\n",
       "       [-0.49305688,  1.09738571],\n",
       "       [-0.82007358, -0.12921218],\n",
       "       [ 0.41098122,  0.44324905],\n",
       "       [ 0.45446261, -1.06418221],\n",
       "       [ 0.87976679, -0.98239701],\n",
       "       [ 0.63388106, -0.39336399],\n",
       "       [ 1.02118678, -0.56527786],\n",
       "       [ 0.32998948,  0.04483518],\n",
       "       [ 0.05569552,  0.74561442],\n",
       "       [-0.01712132,  0.94867258],\n",
       "       [-0.26550258, -0.26387799],\n",
       "       [-0.47275202,  0.96481855],\n",
       "       [ 0.33920179,  0.51613962],\n",
       "       [-0.10749331,  0.49105246],\n",
       "       [-1.22108741, -0.57004436],\n",
       "       [-1.25350882, -0.54629323],\n",
       "       [-0.129132  , -0.17377557],\n",
       "       [ 0.43451909, -0.98026864],\n",
       "       [ 1.12792419,  0.10293658],\n",
       "       [ 0.40383123, -0.83368388],\n",
       "       [-0.48093026, -0.75513694],\n",
       "       [ 0.81631527, -1.00260104],\n",
       "       [-0.74260455, -0.59891139],\n",
       "       [-0.75970832,  0.50648676],\n",
       "       [-0.31597478, -0.90708067],\n",
       "       [-1.05654755,  0.10436146],\n",
       "       [-0.57269418, -0.81399626],\n",
       "       [ 0.57129754, -0.14930589],\n",
       "       [-0.43560021, -0.089689  ],\n",
       "       [ 0.66291263,  0.82246763],\n",
       "       [-0.33180486, -0.35628922],\n",
       "       [-0.59082512, -0.79097089],\n",
       "       [-0.81190758,  0.05255545],\n",
       "       [ 0.96295453, -0.47775746],\n",
       "       [-0.34244386,  0.42157968],\n",
       "       [-0.64258906,  0.63778107],\n",
       "       [ 0.22221352, -0.33115481],\n",
       "       [-0.51091425, -0.66042049],\n",
       "       [ 1.30017248,  0.17770092],\n",
       "       [-1.20541017, -0.51513631],\n",
       "       [-0.44763028, -0.18359663],\n",
       "       [ 0.51012378, -0.32649445],\n",
       "       [-0.20876963, -0.82468531],\n",
       "       [-0.6979284 ,  0.66006253],\n",
       "       [-0.74260455, -0.59891139],\n",
       "       [-1.13696898, -0.65436491],\n",
       "       [-0.27961045,  0.36476852],\n",
       "       [ 0.88821072,  0.69331946],\n",
       "       [ 1.09306545, -0.54313366],\n",
       "       [-1.18648484, -0.62070516],\n",
       "       [ 0.36841975,  0.67610322],\n",
       "       [ 1.08018465,  0.18124748],\n",
       "       [ 1.19700597,  0.10849425],\n",
       "       [-0.02220667, -0.86378318],\n",
       "       [ 1.25210462,  0.13930416],\n",
       "       [-0.68377449,  1.11613753],\n",
       "       [-0.68711304, -0.74784307],\n",
       "       [ 0.08590602, -0.97379502],\n",
       "       [ 0.66293998,  0.16987794],\n",
       "       [ 0.16458097, -0.55957321],\n",
       "       [-1.04550235,  0.09730408]])"
      ]
     },
     "execution_count": 25,
     "metadata": {},
     "output_type": "execute_result"
    }
   ],
   "source": [
    "x_pca"
   ]
  },
  {
   "cell_type": "code",
   "execution_count": 26,
   "metadata": {},
   "outputs": [
    {
     "data": {
      "text/html": [
       "<div>\n",
       "<style scoped>\n",
       "    .dataframe tbody tr th:only-of-type {\n",
       "        vertical-align: middle;\n",
       "    }\n",
       "\n",
       "    .dataframe tbody tr th {\n",
       "        vertical-align: top;\n",
       "    }\n",
       "\n",
       "    .dataframe thead th {\n",
       "        text-align: right;\n",
       "    }\n",
       "</style>\n",
       "<table border=\"1\" class=\"dataframe\">\n",
       "  <thead>\n",
       "    <tr style=\"text-align: right;\">\n",
       "      <th></th>\n",
       "      <th>PC1</th>\n",
       "      <th>PC2</th>\n",
       "    </tr>\n",
       "  </thead>\n",
       "  <tbody>\n",
       "    <tr>\n",
       "      <td>0</td>\n",
       "      <td>0.520609</td>\n",
       "      <td>0.838170</td>\n",
       "    </tr>\n",
       "    <tr>\n",
       "      <td>1</td>\n",
       "      <td>-0.628759</td>\n",
       "      <td>0.325444</td>\n",
       "    </tr>\n",
       "    <tr>\n",
       "      <td>2</td>\n",
       "      <td>-0.564341</td>\n",
       "      <td>-0.824602</td>\n",
       "    </tr>\n",
       "    <tr>\n",
       "      <td>3</td>\n",
       "      <td>0.438479</td>\n",
       "      <td>-0.342215</td>\n",
       "    </tr>\n",
       "    <tr>\n",
       "      <td>4</td>\n",
       "      <td>0.925549</td>\n",
       "      <td>-0.230703</td>\n",
       "    </tr>\n",
       "  </tbody>\n",
       "</table>\n",
       "</div>"
      ],
      "text/plain": [
       "        PC1       PC2\n",
       "0  0.520609  0.838170\n",
       "1 -0.628759  0.325444\n",
       "2 -0.564341 -0.824602\n",
       "3  0.438479 -0.342215\n",
       "4  0.925549 -0.230703"
      ]
     },
     "execution_count": 26,
     "metadata": {},
     "output_type": "execute_result"
    }
   ],
   "source": [
    "dfpca=pd.DataFrame(x_pca, columns = ['PC1','PC2'])\n",
    "dfpca.head()"
   ]
  },
  {
   "cell_type": "code",
   "execution_count": 27,
   "metadata": {},
   "outputs": [
    {
     "data": {
      "text/plain": [
       "array([0.13026836, 0.11007259])"
      ]
     },
     "execution_count": 27,
     "metadata": {},
     "output_type": "execute_result"
    }
   ],
   "source": [
    "pca.explained_variance_ratio_"
   ]
  },
  {
   "cell_type": "markdown",
   "metadata": {},
   "source": [
    "Our 2 PC only explained around 23 percent variance of the data, but we could just work with this data right now. Let's use the scatter plot to see the distribution of the 2 PC with the class feature as the hue"
   ]
  },
  {
   "cell_type": "code",
   "execution_count": 28,
   "metadata": {
    "ExecuteTime": {
     "end_time": "2019-11-24T12:59:14.111799Z",
     "start_time": "2019-11-24T12:59:14.107840Z"
    }
   },
   "outputs": [
    {
     "data": {
      "text/plain": [
       "<matplotlib.axes._subplots.AxesSubplot at 0x2555c8ede48>"
      ]
     },
     "execution_count": 28,
     "metadata": {},
     "output_type": "execute_result"
    },
    {
     "data": {
      "image/png": "[encoded data removed]",
      "text/plain": [
       "<Figure size 576x576 with 1 Axes>"
      ]
     },
     "metadata": {
      "needs_background": "light"
     },
     "output_type": "display_data"
    }
   ],
   "source": [
    "plt.figure(figsize = (8,8))\n",
    "sns.scatterplot('PC1','PC2',kan['class'],data=pd.concat([dfpca,kelas],axis = 1))"
   ]
  },
  {
   "cell_type": "markdown",
   "metadata": {},
   "source": [
    "Seems our 2 PC resulting in some scattered group, our class feature is not that separated but we could use these PCA result for our next analysis. \n",
    "\n",
    "Now, we would use KMeans, DBSCAN, and HDBSCAN to cluster our 2 PC. This time, I already done some analysis and find the best parameter we could use. Try to use the KMeans model with n_cluster = 5, DBSCAN model with eps = 0.1 and min_samples = 2, and HDBSCAN model with min_cluster_size =5 and min_samples = 2\n",
    "\n",
    "Then create the scatter plot to compare the separation performance of each model. "
   ]
  },
  {
   "cell_type": "code",
   "execution_count": 29,
   "metadata": {
    "ExecuteTime": {
     "end_time": "2019-10-30T03:47:03.579843Z",
     "start_time": "2019-10-30T03:47:03.574886Z"
    }
   },
   "outputs": [],
   "source": [
    "# 1. kmeans => n_cluster =5\n",
    "from sklearn.cluster import KMeans"
   ]
  },
  {
   "cell_type": "code",
   "execution_count": 30,
   "metadata": {},
   "outputs": [],
   "source": [
    "kmeans = KMeans(n_clusters=5)"
   ]
  },
  {
   "cell_type": "code",
   "execution_count": 31,
   "metadata": {
    "ExecuteTime": {
     "end_time": "2019-10-30T03:47:03.596387Z",
     "start_time": "2019-10-30T03:47:03.582833Z"
    },
    "scrolled": true
   },
   "outputs": [
    {
     "data": {
      "text/plain": [
       "KMeans(algorithm='auto', copy_x=True, init='k-means++', max_iter=300,\n",
       "       n_clusters=5, n_init=10, n_jobs=None, precompute_distances='auto',\n",
       "       random_state=None, tol=0.0001, verbose=0)"
      ]
     },
     "execution_count": 31,
     "metadata": {},
     "output_type": "execute_result"
    }
   ],
   "source": [
    "kmeans.fit(dfpca[['PC1', 'PC2']])"
   ]
  },
  {
   "cell_type": "code",
   "execution_count": 32,
   "metadata": {
    "ExecuteTime": {
     "end_time": "2019-10-30T03:47:03.604533Z",
     "start_time": "2019-10-30T03:47:03.598576Z"
    },
    "scrolled": true
   },
   "outputs": [
    {
     "data": {
      "text/plain": [
       "array([[ 0.7492132 ,  0.44146799],\n",
       "       [-0.45674147,  0.71753639],\n",
       "       [-0.28524954, -0.67771006],\n",
       "       [ 0.6964742 , -0.60904486],\n",
       "       [-0.87260978, -0.29997238]])"
      ]
     },
     "execution_count": 32,
     "metadata": {},
     "output_type": "execute_result"
    }
   ],
   "source": [
    "kmeans.cluster_centers_"
   ]
  },
  {
   "cell_type": "code",
   "execution_count": 33,
   "metadata": {
    "scrolled": true
   },
   "outputs": [
    {
     "data": {
      "text/plain": [
       "array([0, 1, 2, 3, 3, 0, 1, 0, 0, 0, 2, 1, 1, 1, 3, 2, 1, 1, 0, 1, 4, 1,\n",
       "       2, 0, 2, 1, 2, 0, 4, 2, 1, 4, 4, 1, 3, 2, 0, 4, 2, 0, 2, 0, 2, 1,\n",
       "       2, 4, 1, 0, 0, 1, 2, 1, 3, 1, 3, 1, 2, 4, 1, 0, 4, 0, 1, 2, 0, 1,\n",
       "       3, 2, 0, 3, 2, 1, 4, 4, 2, 4, 2, 0, 3, 1, 2, 3, 0, 1, 0, 1, 0, 0,\n",
       "       4, 1, 1, 1, 1, 0, 1, 3, 0, 2, 1, 0, 3, 2, 4, 1, 3, 4, 2, 3, 1, 3,\n",
       "       1, 2, 0, 0, 4, 1, 0, 1, 0, 3, 0, 0, 3, 2, 3, 4, 1, 2, 0, 2, 3, 0,\n",
       "       0, 3, 2, 3, 1, 4, 1, 2, 4, 0, 0, 2, 4, 2, 0, 4, 3, 1, 3, 1, 2, 2,\n",
       "       2, 4, 0, 3, 1, 1, 1, 0, 2, 2, 2, 4, 1, 3, 0, 3, 1, 1, 3, 1, 0, 0,\n",
       "       0, 0, 3, 0, 0, 1, 3, 4, 3, 4, 0, 0, 1, 0, 3, 3, 4, 1, 0, 0, 0, 4,\n",
       "       0, 4, 3, 0, 4, 0, 3, 4, 2, 1, 2, 3, 2, 3, 3, 4, 0, 1, 1, 2, 1, 1,\n",
       "       4, 1, 3, 1, 1, 1, 4, 0, 3, 3, 3, 3, 0, 1, 1, 2, 1, 0, 1, 4, 4, 2,\n",
       "       3, 0, 3, 2, 3, 4, 1, 2, 4, 2, 3, 4, 0, 2, 2, 4, 3, 1, 1, 3, 2, 0,\n",
       "       4, 4, 3, 2, 1, 4, 4, 1, 0, 3, 4, 0, 0, 0, 2, 0, 1, 2, 2, 0, 2, 4])"
      ]
     },
     "execution_count": 33,
     "metadata": {},
     "output_type": "execute_result"
    }
   ],
   "source": [
    "kmeans.labels_"
   ]
  },
  {
   "cell_type": "code",
   "execution_count": 34,
   "metadata": {},
   "outputs": [
    {
     "data": {
      "text/html": [
       "<div>\n",
       "<style scoped>\n",
       "    .dataframe tbody tr th:only-of-type {\n",
       "        vertical-align: middle;\n",
       "    }\n",
       "\n",
       "    .dataframe tbody tr th {\n",
       "        vertical-align: top;\n",
       "    }\n",
       "\n",
       "    .dataframe thead th {\n",
       "        text-align: right;\n",
       "    }\n",
       "</style>\n",
       "<table border=\"1\" class=\"dataframe\">\n",
       "  <thead>\n",
       "    <tr style=\"text-align: right;\">\n",
       "      <th></th>\n",
       "      <th>PC1</th>\n",
       "      <th>PC2</th>\n",
       "      <th>Category</th>\n",
       "    </tr>\n",
       "  </thead>\n",
       "  <tbody>\n",
       "    <tr>\n",
       "      <td>0</td>\n",
       "      <td>0.520609</td>\n",
       "      <td>0.838170</td>\n",
       "      <td>0</td>\n",
       "    </tr>\n",
       "    <tr>\n",
       "      <td>1</td>\n",
       "      <td>-0.628759</td>\n",
       "      <td>0.325444</td>\n",
       "      <td>1</td>\n",
       "    </tr>\n",
       "    <tr>\n",
       "      <td>2</td>\n",
       "      <td>-0.564341</td>\n",
       "      <td>-0.824602</td>\n",
       "      <td>2</td>\n",
       "    </tr>\n",
       "    <tr>\n",
       "      <td>3</td>\n",
       "      <td>0.438479</td>\n",
       "      <td>-0.342215</td>\n",
       "      <td>3</td>\n",
       "    </tr>\n",
       "    <tr>\n",
       "      <td>4</td>\n",
       "      <td>0.925549</td>\n",
       "      <td>-0.230703</td>\n",
       "      <td>3</td>\n",
       "    </tr>\n",
       "  </tbody>\n",
       "</table>\n",
       "</div>"
      ],
      "text/plain": [
       "        PC1       PC2  Category\n",
       "0  0.520609  0.838170         0\n",
       "1 -0.628759  0.325444         1\n",
       "2 -0.564341 -0.824602         2\n",
       "3  0.438479 -0.342215         3\n",
       "4  0.925549 -0.230703         3"
      ]
     },
     "execution_count": 34,
     "metadata": {},
     "output_type": "execute_result"
    }
   ],
   "source": [
    "dfKmeans = pd.DataFrame(dfpca, columns = ['PC1', 'PC2'])\n",
    "dfKmeans['Category'] = kmeans.labels_\n",
    "dfKmeans.head()"
   ]
  },
  {
   "cell_type": "code",
   "execution_count": 35,
   "metadata": {},
   "outputs": [],
   "source": [
    "# DBSCAN\n",
    "# 2. dbscan => eps = 0.1, min_samples = 2\n",
    "from sklearn.cluster import DBSCAN\n",
    "\n",
    "dbscan = DBSCAN(eps = 0.1, min_samples = 2)\n",
    "dbscan.fit(dfpca[['PC1', 'PC2']])\n",
    "dfpca['DB'] = dbscan.labels_"
   ]
  },
  {
   "cell_type": "code",
   "execution_count": 36,
   "metadata": {},
   "outputs": [],
   "source": [
    "# HDBSCAN\n",
    "# 3. hdbscan => min_cluster_size = 5\n",
    "from hdbscan import HDBSCAN\n",
    "\n",
    "hdbscan = HDBSCAN(min_cluster_size = 5, min_samples = 2)\n",
    "hdbscan.fit(dfpca[['PC1', 'PC2']])\n",
    "dfpca['HDB'] = hdbscan.labels_"
   ]
  },
  {
   "cell_type": "code",
   "execution_count": 37,
   "metadata": {},
   "outputs": [
    {
     "data": {
      "text/plain": [
       "array([ 9, 10, 24,  5,  2,  8, 15, 13, 13,  9, 22,  6, 10,  6,  0, 18, -1,\n",
       "        6, -1, 15, -1,  6, 21,  9, 23,  6, 21,  9, 19, -1, 16, 20, 20,  3,\n",
       "       11, 22,  1, 20, -1, 14, 23, 13, 21, 16, 22, 20,  6,  9,  8,  3, 24,\n",
       "        3,  5,  4,  2,  3, 23, 19, 10, 14, 19, 13,  4, 17,  9, 10, -1, 24,\n",
       "        8, 17, 24,  7, 20, 20, 18, -1, 23, 13,  5,  4, 24,  2,  9,  4, 14,\n",
       "       15,  9,  9, 20, 16,  7, -1, 16,  8,  6,  0, -1, 23,  3,  9,  0, 22,\n",
       "       -1,  4,  5, -1, 23, 17, 10,  2,  7, 24, 14, -1, 20, -1,  9, -1,  1,\n",
       "        5, 12, -1,  0, 23,  5, 20,  4, 24, 13, 21,  2, 14, 12,  2, 23, 17,\n",
       "       10, -1,  3, 20, -1, 13,  1, 22, 20, 24,  9, -1,  2, -1,  2,  4, 24,\n",
       "       23, 24, 20, 14, 11,  7,  3,  3, 13, 24, 24, 18, 20, -1,  2, 13,  0,\n",
       "        4,  3, 11, -1,  9,  1,  1,  9,  2, 13, 14, 15, 11, 19, 11, 20, 12,\n",
       "       12,  4, -1, 17,  0, 19,  6,  1, 14,  8, -1, 14, 20,  5, 12, 19, 14,\n",
       "        5, 20, 24,  7, -1,  5, 18, 11,  0, 20,  1,  7, 16, 22,  4,  6, -1,\n",
       "       15,  2,  4, -1,  7, 20, 12, 11,  0,  5,  2, -1, -1,  6, 21,  7, 12,\n",
       "        4, 19, 19, 18, 11, 13, 11, 24,  0, -1, 16, 23, 20, 24,  5, 20,  9,\n",
       "       21, 24, 20,  2,  4, -1, 17, 24, 13, 19, 20,  5, 23, -1, -1, 19,  4,\n",
       "        9,  2, 19,  8, 13, 13, 22, 13,  3, 24, 22, 14, 17, 20],\n",
       "      dtype=int64)"
      ]
     },
     "execution_count": 37,
     "metadata": {},
     "output_type": "execute_result"
    }
   ],
   "source": [
    "hdbscan.labels_"
   ]
  },
  {
   "cell_type": "code",
   "execution_count": 38,
   "metadata": {},
   "outputs": [
    {
     "data": {
      "text/plain": [
       "<matplotlib.collections.PathCollection at 0x2555e84e308>"
      ]
     },
     "execution_count": 38,
     "metadata": {},
     "output_type": "execute_result"
    },
    {
     "data": {
      "image/png": "[encoded data removed]",
      "text/plain": [
       "<Figure size 1152x576 with 4 Axes>"
      ]
     },
     "metadata": {
      "needs_background": "light"
     },
     "output_type": "display_data"
    }
   ],
   "source": [
    "f, (ax1, ax2, ax3, ax4) = plt.subplots(1, 4, sharey = True, figsize = (16, 8))\n",
    "\n",
    "# Original scatter plot\n",
    "ax1.set_title('Original')\n",
    "ax1.scatter(dfpca['PC1'], dfpca['PC2'])\n",
    "\n",
    "# K Means scatter plot\n",
    "centroids = kmeans.cluster_centers_\n",
    "ax2.set_title('K Means')\n",
    "ax2.scatter(dfKmeans['PC1'], dfKmeans['PC2'], c = dfKmeans['Category'], cmap = 'rainbow')\n",
    "ax2.scatter(centroids[:, 0], centroids[:, 1], marker='*', c='b', s=250)\n",
    "\n",
    "# DBSCAN\n",
    "core = dbscan.components_\n",
    "ax3.set_title('DBSCAN')\n",
    "ax3.scatter(dfpca['PC1'], dfpca['PC2'], c = dfpca['DB'], cmap = 'rainbow')\n",
    "ax3.scatter(core[:, 0], core[:, 1], marker = 'o', c = 'black', s = 5)\n",
    "\n",
    "# HDBSCAN\n",
    "ax4.set_title('HDBSCAN')\n",
    "ax4.scatter(dfpca['PC1'], dfpca['PC2'], c = dfpca['HDB'], cmap = 'rainbow')"
   ]
  },
  {
   "cell_type": "code",
   "execution_count": null,
   "metadata": {
    "ExecuteTime": {
     "end_time": "2019-11-24T13:29:33.185782Z",
     "start_time": "2019-11-24T13:29:32.660583Z"
    }
   },
   "outputs": [],
   "source": []
  },
  {
   "cell_type": "markdown",
   "metadata": {},
   "source": [
    "## Question 2\n",
    "\n",
    "In your opinion, is the clustering analysis with those 3 method actually give any insight that actually meaningful? give me your reasoning"
   ]
  },
  {
   "cell_type": "markdown",
   "metadata": {},
   "source": [
    "## Supervised Modelling"
   ]
  },
  {
   "cell_type": "markdown",
   "metadata": {},
   "source": [
    "First, done the Train Test Split by using random_state=101 and test size =0.2"
   ]
  },
  {
   "cell_type": "markdown",
   "metadata": {},
   "source": [
    "### original data"
   ]
  },
  {
   "cell_type": "code",
   "execution_count": 39,
   "metadata": {
    "ExecuteTime": {
     "end_time": "2019-11-24T13:56:06.438149Z",
     "start_time": "2019-11-24T13:56:06.434159Z"
    }
   },
   "outputs": [],
   "source": [
    "from sklearn.model_selection import train_test_split"
   ]
  },
  {
   "cell_type": "code",
   "execution_count": 40,
   "metadata": {},
   "outputs": [],
   "source": [
    "# kanker = X, kelas= y\n",
    "X_train, X_test, y_train, y_test = train_test_split(kanker, kelas, test_size=0.20,random_state = 101)"
   ]
  },
  {
   "cell_type": "code",
   "execution_count": 41,
   "metadata": {
    "scrolled": true
   },
   "outputs": [
    {
     "data": {
      "text/plain": [
       "0    201\n",
       "1     85\n",
       "dtype: int64"
      ]
     },
     "execution_count": 41,
     "metadata": {},
     "output_type": "execute_result"
    }
   ],
   "source": [
    "kelas.value_counts()"
   ]
  },
  {
   "cell_type": "markdown",
   "metadata": {},
   "source": [
    "we have a case of data imbalance for our class feature, for that We could use SMOTE to try oversampling our data. In this time try use SMOTE to our x_train data but keep it in new variable so we would have 2 different kind of x_train; with and without oversampling."
   ]
  },
  {
   "cell_type": "markdown",
   "metadata": {},
   "source": [
    "### oversampled"
   ]
  },
  {
   "cell_type": "code",
   "execution_count": 42,
   "metadata": {},
   "outputs": [],
   "source": [
    "X_train, X_test, y_train, y_test = train_test_split(kanker, kelas, test_size=0.20,random_state = 101)"
   ]
  },
  {
   "cell_type": "code",
   "execution_count": 43,
   "metadata": {
    "ExecuteTime": {
     "end_time": "2019-11-24T13:56:23.856318Z",
     "start_time": "2019-11-24T13:56:23.851331Z"
    }
   },
   "outputs": [],
   "source": [
    "from imblearn.over_sampling import SMOTE"
   ]
  },
  {
   "cell_type": "code",
   "execution_count": 44,
   "metadata": {
    "ExecuteTime": {
     "end_time": "2019-11-24T13:56:37.848009Z",
     "start_time": "2019-11-24T13:56:36.904171Z"
    }
   },
   "outputs": [],
   "source": [
    "sm = SMOTE(sampling_strategy='minority')\n",
    "oversampled_trainX, oversampled_trainY = sm.fit_sample(X_train,y_train )"
   ]
  },
  {
   "cell_type": "code",
   "execution_count": 45,
   "metadata": {},
   "outputs": [],
   "source": [
    "oversampled_trainX = pd.DataFrame(oversampled_trainX, columns = X_train.columns)\n",
    "oversampled_trainY = pd.DataFrame(oversampled_trainY, columns = ['class'])"
   ]
  },
  {
   "cell_type": "code",
   "execution_count": 46,
   "metadata": {},
   "outputs": [
    {
     "name": "stdout",
     "output_type": "stream",
     "text": [
      "<class 'pandas.core.frame.DataFrame'>\n",
      "Int64Index: 228 entries, 266 to 11\n",
      "Data columns (total 32 columns):\n",
      "age_'30-39'                228 non-null uint8\n",
      "age_'40-49'                228 non-null uint8\n",
      "age_'50-59'                228 non-null uint8\n",
      "age_'60-69'                228 non-null uint8\n",
      "age_'70-79'                228 non-null uint8\n",
      "menopause_'lt40'           228 non-null uint8\n",
      "menopause_'premeno'        228 non-null uint8\n",
      "tumor_size_'10-14'         228 non-null uint8\n",
      "tumor_size_'15-19'         228 non-null uint8\n",
      "tumor_size_'20-24'         228 non-null uint8\n",
      "tumor_size_'25-29'         228 non-null uint8\n",
      "tumor_size_'30-34'         228 non-null uint8\n",
      "tumor_size_'35-39'         228 non-null uint8\n",
      "tumor_size_'40-44'         228 non-null uint8\n",
      "tumor_size_'45-49'         228 non-null uint8\n",
      "tumor_size_'5-9'           228 non-null uint8\n",
      "tumor_size_'50-54'         228 non-null uint8\n",
      "inv_nodes_'12-14'          228 non-null uint8\n",
      "inv_nodes_'15-17'          228 non-null uint8\n",
      "inv_nodes_'24-26'          228 non-null uint8\n",
      "inv_nodes_'3-5'            228 non-null uint8\n",
      "inv_nodes_'6-8'            228 non-null uint8\n",
      "inv_nodes_'9-11'           228 non-null uint8\n",
      "node_caps_'yes'            228 non-null uint8\n",
      "deg_malig_2                228 non-null uint8\n",
      "deg_malig_3                228 non-null uint8\n",
      "breast_'right'             228 non-null uint8\n",
      "breast_quad_'left_low'     228 non-null uint8\n",
      "breast_quad_'left_up'      228 non-null uint8\n",
      "breast_quad_'right_low'    228 non-null uint8\n",
      "breast_quad_'right_up'     228 non-null uint8\n",
      "irradiat_'yes'             228 non-null uint8\n",
      "dtypes: uint8(32)\n",
      "memory usage: 8.9 KB\n"
     ]
    }
   ],
   "source": [
    "X_train.info()"
   ]
  },
  {
   "cell_type": "code",
   "execution_count": 47,
   "metadata": {},
   "outputs": [
    {
     "name": "stdout",
     "output_type": "stream",
     "text": [
      "<class 'pandas.core.frame.DataFrame'>\n",
      "RangeIndex: 332 entries, 0 to 331\n",
      "Data columns (total 32 columns):\n",
      "age_'30-39'                332 non-null uint8\n",
      "age_'40-49'                332 non-null uint8\n",
      "age_'50-59'                332 non-null uint8\n",
      "age_'60-69'                332 non-null uint8\n",
      "age_'70-79'                332 non-null uint8\n",
      "menopause_'lt40'           332 non-null uint8\n",
      "menopause_'premeno'        332 non-null uint8\n",
      "tumor_size_'10-14'         332 non-null uint8\n",
      "tumor_size_'15-19'         332 non-null uint8\n",
      "tumor_size_'20-24'         332 non-null uint8\n",
      "tumor_size_'25-29'         332 non-null uint8\n",
      "tumor_size_'30-34'         332 non-null uint8\n",
      "tumor_size_'35-39'         332 non-null uint8\n",
      "tumor_size_'40-44'         332 non-null uint8\n",
      "tumor_size_'45-49'         332 non-null uint8\n",
      "tumor_size_'5-9'           332 non-null uint8\n",
      "tumor_size_'50-54'         332 non-null uint8\n",
      "inv_nodes_'12-14'          332 non-null uint8\n",
      "inv_nodes_'15-17'          332 non-null uint8\n",
      "inv_nodes_'24-26'          332 non-null uint8\n",
      "inv_nodes_'3-5'            332 non-null uint8\n",
      "inv_nodes_'6-8'            332 non-null uint8\n",
      "inv_nodes_'9-11'           332 non-null uint8\n",
      "node_caps_'yes'            332 non-null uint8\n",
      "deg_malig_2                332 non-null uint8\n",
      "deg_malig_3                332 non-null uint8\n",
      "breast_'right'             332 non-null uint8\n",
      "breast_quad_'left_low'     332 non-null uint8\n",
      "breast_quad_'left_up'      332 non-null uint8\n",
      "breast_quad_'right_low'    332 non-null uint8\n",
      "breast_quad_'right_up'     332 non-null uint8\n",
      "irradiat_'yes'             332 non-null uint8\n",
      "dtypes: uint8(32)\n",
      "memory usage: 10.5 KB\n"
     ]
    }
   ],
   "source": [
    "oversampled_trainX.info()"
   ]
  },
  {
   "cell_type": "code",
   "execution_count": null,
   "metadata": {},
   "outputs": [],
   "source": []
  },
  {
   "cell_type": "markdown",
   "metadata": {},
   "source": [
    "## Question 3\n",
    "\n",
    "This time, I would leave the supervised modelling for the class feature to be up to you. I would give some criteria that was necessary to get the maximum points. The criteria included:\n",
    "\n",
    "1. Aim for one of the metric of your choice (either the performance metrics optimization such as increasing the Accuracy, or lowering the loss function such as Log Loss). Give me your reason why you choose these metric. Just aim for one metric, you do not need to try optimize everything.\n",
    "\n",
    "2. Compare 3 supervise model of your choice. Try to optimize your metric for these 3 model by hyperparameter tuning and use it on both the oversampled data and normal one. Compare the model if there is a difference If you use the oversampled data or not. Then choose to work with the data that you think is the best. If you feel the model of your choice could not be optimized again, then choose the best model with the best hyperparameter. You do not need to really aim for the best model, but I want to see if you know the step of optimizing model and done hyperparameter tuning. We do not need to work on Feature Engineering for this time.\n",
    "\n",
    "3. From your choice of model and data, use the Feature Importance method to see which feature that affecting the class feature. Explain what is your finding. There might be some randomness because of the method, but just try to explain from what the plot is showing. \n",
    "\n",
    "4. Lastly, try to see if your model stable or not by using the K-Fold and CV method, as well as to try find the best training size by using the learning curve method. Use all your data again (the data you use for train test split).It does not matter if you model work is based on the oversampled data or not, just use the model base on the complete data (Once again, (the data you use for train test split)."
   ]
  },
  {
   "cell_type": "code",
   "execution_count": 48,
   "metadata": {},
   "outputs": [],
   "source": [
    "from sklearn.linear_model import LogisticRegression\n",
    "from sklearn.ensemble import RandomForestClassifier\n",
    "from sklearn.tree import DecisionTreeClassifier\n",
    "from sklearn.metrics import accuracy_score"
   ]
  },
  {
   "cell_type": "code",
   "execution_count": 49,
   "metadata": {},
   "outputs": [],
   "source": [
    "# accuracy_score(y_true, y_pred)"
   ]
  },
  {
   "cell_type": "code",
   "execution_count": 50,
   "metadata": {},
   "outputs": [],
   "source": [
    "def compare(X_train, y_train, X_test, y_test, model):\n",
    "    model.fit(X_train, y_train)\n",
    "    return accuracy_score(y_train, model.predict(X_train)), accuracy_score(y_test, model.predict(X_test))"
   ]
  },
  {
   "cell_type": "code",
   "execution_count": 51,
   "metadata": {},
   "outputs": [
    {
     "name": "stdout",
     "output_type": "stream",
     "text": [
      "ORI :Accuracy Train Original Data: 0.9824561403508771\n",
      "ORI : Accuracy Test Original Data: 0.5172413793103449\n",
      "\n",
      "Over : Accuracy Train Oversampled Data:0.9879518072289156\n",
      "Over : Accuracy Test Oversampled Data: 0.5344827586206896\n"
     ]
    }
   ],
   "source": [
    "dt = DecisionTreeClassifier(random_state = 101)\n",
    "print('ORI :Accuracy Train Original Data: {}'.format(compare(X_train, y_train, X_test, y_test, dt)[0]))\n",
    "print('ORI : Accuracy Test Original Data: {}\\n'.format(compare(X_train, y_train, X_test, y_test, dt)[1]))\n",
    "print('Over : Accuracy Train Oversampled Data:{}' .format(compare(oversampled_trainX, oversampled_trainY, X_test, y_test, dt)[0]))\n",
    "print('Over : Accuracy Test Oversampled Data: {}'.format(compare(oversampled_trainX, oversampled_trainY, X_test, y_test, dt)[1]))"
   ]
  },
  {
   "cell_type": "code",
   "execution_count": 52,
   "metadata": {},
   "outputs": [
    {
     "name": "stdout",
     "output_type": "stream",
     "text": [
      "ORI :Accuracy Train Original Data: 0.9429824561403509\n",
      "ORI : Accuracy Test Original Data: 0.6551724137931034\n",
      "\n",
      "Over : Accuracy Train Oversampled Data:0.9849397590361446\n",
      "Over : Accuracy Test Oversampled Data: 0.603448275862069\n"
     ]
    },
    {
     "name": "stderr",
     "output_type": "stream",
     "text": [
      "C:\\ProgramData\\Anaconda3\\lib\\site-packages\\sklearn\\ensemble\\forest.py:245: FutureWarning: The default value of n_estimators will change from 10 in version 0.20 to 100 in 0.22.\n",
      "  \"10 in version 0.20 to 100 in 0.22.\", FutureWarning)\n",
      "C:\\ProgramData\\Anaconda3\\lib\\site-packages\\ipykernel_launcher.py:2: DataConversionWarning: A column-vector y was passed when a 1d array was expected. Please change the shape of y to (n_samples,), for example using ravel().\n",
      "  \n",
      "C:\\ProgramData\\Anaconda3\\lib\\site-packages\\ipykernel_launcher.py:2: DataConversionWarning: A column-vector y was passed when a 1d array was expected. Please change the shape of y to (n_samples,), for example using ravel().\n",
      "  \n"
     ]
    }
   ],
   "source": [
    "rf = RandomForestClassifier(random_state = 101)\n",
    "print('ORI :Accuracy Train Original Data: {}'.format(compare(X_train, y_train, X_test, y_test, rf)[0]))\n",
    "print('ORI : Accuracy Test Original Data: {}\\n'.format(compare(X_train, y_train, X_test, y_test, rf)[1]))\n",
    "print('Over : Accuracy Train Oversampled Data:{}' .format(compare(oversampled_trainX, oversampled_trainY, X_test, y_test, rf)[0]))\n",
    "print('Over : Accuracy Test Oversampled Data: {}'.format(compare(oversampled_trainX, oversampled_trainY, X_test, y_test, rf)[1]))"
   ]
  },
  {
   "cell_type": "code",
   "execution_count": 53,
   "metadata": {},
   "outputs": [
    {
     "name": "stderr",
     "output_type": "stream",
     "text": [
      "C:\\ProgramData\\Anaconda3\\lib\\site-packages\\sklearn\\linear_model\\logistic.py:432: FutureWarning: Default solver will be changed to 'lbfgs' in 0.22. Specify a solver to silence this warning.\n",
      "  FutureWarning)\n",
      "C:\\ProgramData\\Anaconda3\\lib\\site-packages\\sklearn\\linear_model\\logistic.py:432: FutureWarning: Default solver will be changed to 'lbfgs' in 0.22. Specify a solver to silence this warning.\n",
      "  FutureWarning)\n",
      "C:\\ProgramData\\Anaconda3\\lib\\site-packages\\sklearn\\linear_model\\logistic.py:432: FutureWarning: Default solver will be changed to 'lbfgs' in 0.22. Specify a solver to silence this warning.\n",
      "  FutureWarning)\n",
      "C:\\ProgramData\\Anaconda3\\lib\\site-packages\\sklearn\\utils\\validation.py:724: DataConversionWarning: A column-vector y was passed when a 1d array was expected. Please change the shape of y to (n_samples, ), for example using ravel().\n",
      "  y = column_or_1d(y, warn=True)\n"
     ]
    },
    {
     "name": "stdout",
     "output_type": "stream",
     "text": [
      "ORI :Accuracy Train Original Data: 0.7675438596491229\n",
      "ORI : Accuracy Test Original Data: 0.6896551724137931\n",
      "\n",
      "Over : Accuracy Train Oversampled Data:0.8343373493975904\n",
      "Over : Accuracy Test Oversampled Data: 0.7413793103448276\n"
     ]
    },
    {
     "name": "stderr",
     "output_type": "stream",
     "text": [
      "C:\\ProgramData\\Anaconda3\\lib\\site-packages\\sklearn\\linear_model\\logistic.py:432: FutureWarning: Default solver will be changed to 'lbfgs' in 0.22. Specify a solver to silence this warning.\n",
      "  FutureWarning)\n",
      "C:\\ProgramData\\Anaconda3\\lib\\site-packages\\sklearn\\utils\\validation.py:724: DataConversionWarning: A column-vector y was passed when a 1d array was expected. Please change the shape of y to (n_samples, ), for example using ravel().\n",
      "  y = column_or_1d(y, warn=True)\n"
     ]
    }
   ],
   "source": [
    "log = LogisticRegression(random_state = 101)\n",
    "print('ORI :Accuracy Train Original Data: {}'. format(compare(X_train, y_train, X_test, y_test, log)[0]))\n",
    "print('ORI : Accuracy Test Original Data: {}\\n'. format(compare(X_train, y_train, X_test, y_test, log)[1]))\n",
    "print('Over : Accuracy Train Oversampled Data:{}' .format(compare(oversampled_trainX, oversampled_trainY, X_test, y_test, log)[0]))\n",
    "print('Over : Accuracy Test Oversampled Data: {}'.format(compare(oversampled_trainX, oversampled_trainY, X_test, y_test, log)[1]))"
   ]
  },
  {
   "cell_type": "markdown",
   "metadata": {},
   "source": [
    "hasil yg terbaik adalah dari : Random forest\n",
    "karena dr hasil test data original dengan fit: data train- test: data test, nilainya yg plg tinggi & fit: data train-test:data train hasilnya juga cukup baik, dan nilainya perbedaanya lbh dekat dibandingkan dengan hasil decision tree"
   ]
  },
  {
   "cell_type": "code",
   "execution_count": null,
   "metadata": {},
   "outputs": [],
   "source": []
  },
  {
   "cell_type": "markdown",
   "metadata": {},
   "source": [
    "### Hypertuning original data"
   ]
  },
  {
   "cell_type": "code",
   "execution_count": 54,
   "metadata": {},
   "outputs": [],
   "source": [
    "from sklearn.model_selection import GridSearchCV"
   ]
  },
  {
   "cell_type": "code",
   "execution_count": 58,
   "metadata": {},
   "outputs": [
    {
     "name": "stdout",
     "output_type": "stream",
     "text": [
      "Accuracy Original Decision Tree: 0.7368421052631579\n"
     ]
    },
    {
     "name": "stderr",
     "output_type": "stream",
     "text": [
      "C:\\ProgramData\\Anaconda3\\lib\\site-packages\\sklearn\\model_selection\\_search.py:814: DeprecationWarning: The default of the `iid` parameter will change from True to False in version 0.22 and will be removed in 0.24. This will change numeric results when test-set sizes are unequal.\n",
      "  DeprecationWarning)\n"
     ]
    }
   ],
   "source": [
    "# Decision Tree\n",
    "dtree_ori= GridSearchCV(estimator = dt,refit = 'accuracy',\n",
    "                                      param_grid = {\n",
    "                                        'criterion': ['gini','entropy'],\n",
    "                                        'max_depth' : [None, 10, 20],\n",
    "                                        'max_features' : ['auto', 'sqrt'],\n",
    "                                        'max_depth' : [None, 10, 20],\n",
    "                                        'min_samples_split' : [2,5,10, 20, 30],\n",
    "                                        'min_samples_leaf' : [1, 3, 5, 7, 9],\n",
    "                                        'class_weight' : [None, {0 : 1, 1 : 2}, {0 : 1, 1 : 3}]                         \n",
    "                                      },\n",
    "                                      cv = 5, n_jobs = -1, scoring = 'accuracy')\n",
    "dtree_ori.fit(X_train, y_train)\n",
    "print('Accuracy Original Decision Tree: {}' .format(dtree_ori.best_score_))"
   ]
  },
  {
   "cell_type": "code",
   "execution_count": 56,
   "metadata": {
    "collapsed": true
   },
   "outputs": [
    {
     "ename": "KeyboardInterrupt",
     "evalue": "",
     "output_type": "error",
     "traceback": [
      "\u001b[1;31m---------------------------------------------------------------------------\u001b[0m",
      "\u001b[1;31mKeyboardInterrupt\u001b[0m                         Traceback (most recent call last)",
      "\u001b[1;32m<ipython-input-56-d89004de617f>\u001b[0m in \u001b[0;36m<module>\u001b[1;34m\u001b[0m\n\u001b[0;32m     12\u001b[0m                               },\n\u001b[0;32m     13\u001b[0m                               cv = 5, n_jobs = -1, scoring = 'accuracy')\n\u001b[1;32m---> 14\u001b[1;33m \u001b[0mrfc_random\u001b[0m\u001b[1;33m.\u001b[0m\u001b[0mfit\u001b[0m\u001b[1;33m(\u001b[0m\u001b[0mX_train\u001b[0m\u001b[1;33m,\u001b[0m \u001b[0my_train\u001b[0m\u001b[1;33m)\u001b[0m\u001b[1;33m\u001b[0m\u001b[1;33m\u001b[0m\u001b[0m\n\u001b[0m\u001b[0;32m     15\u001b[0m \u001b[0mprint\u001b[0m\u001b[1;33m(\u001b[0m\u001b[1;34m'Accuracy Original Random Forest: {}'\u001b[0m\u001b[1;33m.\u001b[0m\u001b[0mformat\u001b[0m\u001b[1;33m(\u001b[0m\u001b[0mrfc_random\u001b[0m\u001b[1;33m.\u001b[0m\u001b[0mbest_score_\u001b[0m\u001b[1;33m)\u001b[0m\u001b[1;33m)\u001b[0m\u001b[1;33m\u001b[0m\u001b[1;33m\u001b[0m\u001b[0m\n",
      "\u001b[1;32mC:\\ProgramData\\Anaconda3\\lib\\site-packages\\sklearn\\model_selection\\_search.py\u001b[0m in \u001b[0;36mfit\u001b[1;34m(self, X, y, groups, **fit_params)\u001b[0m\n\u001b[0;32m    686\u001b[0m                 \u001b[1;32mreturn\u001b[0m \u001b[0mresults\u001b[0m\u001b[1;33m\u001b[0m\u001b[1;33m\u001b[0m\u001b[0m\n\u001b[0;32m    687\u001b[0m \u001b[1;33m\u001b[0m\u001b[0m\n\u001b[1;32m--> 688\u001b[1;33m             \u001b[0mself\u001b[0m\u001b[1;33m.\u001b[0m\u001b[0m_run_search\u001b[0m\u001b[1;33m(\u001b[0m\u001b[0mevaluate_candidates\u001b[0m\u001b[1;33m)\u001b[0m\u001b[1;33m\u001b[0m\u001b[1;33m\u001b[0m\u001b[0m\n\u001b[0m\u001b[0;32m    689\u001b[0m \u001b[1;33m\u001b[0m\u001b[0m\n\u001b[0;32m    690\u001b[0m         \u001b[1;31m# For multi-metric evaluation, store the best_index_, best_params_ and\u001b[0m\u001b[1;33m\u001b[0m\u001b[1;33m\u001b[0m\u001b[1;33m\u001b[0m\u001b[0m\n",
      "\u001b[1;32mC:\\ProgramData\\Anaconda3\\lib\\site-packages\\sklearn\\model_selection\\_search.py\u001b[0m in \u001b[0;36m_run_search\u001b[1;34m(self, evaluate_candidates)\u001b[0m\n\u001b[0;32m   1147\u001b[0m     \u001b[1;32mdef\u001b[0m \u001b[0m_run_search\u001b[0m\u001b[1;33m(\u001b[0m\u001b[0mself\u001b[0m\u001b[1;33m,\u001b[0m \u001b[0mevaluate_candidates\u001b[0m\u001b[1;33m)\u001b[0m\u001b[1;33m:\u001b[0m\u001b[1;33m\u001b[0m\u001b[1;33m\u001b[0m\u001b[0m\n\u001b[0;32m   1148\u001b[0m         \u001b[1;34m\"\"\"Search all candidates in param_grid\"\"\"\u001b[0m\u001b[1;33m\u001b[0m\u001b[1;33m\u001b[0m\u001b[0m\n\u001b[1;32m-> 1149\u001b[1;33m         \u001b[0mevaluate_candidates\u001b[0m\u001b[1;33m(\u001b[0m\u001b[0mParameterGrid\u001b[0m\u001b[1;33m(\u001b[0m\u001b[0mself\u001b[0m\u001b[1;33m.\u001b[0m\u001b[0mparam_grid\u001b[0m\u001b[1;33m)\u001b[0m\u001b[1;33m)\u001b[0m\u001b[1;33m\u001b[0m\u001b[1;33m\u001b[0m\u001b[0m\n\u001b[0m\u001b[0;32m   1150\u001b[0m \u001b[1;33m\u001b[0m\u001b[0m\n\u001b[0;32m   1151\u001b[0m \u001b[1;33m\u001b[0m\u001b[0m\n",
      "\u001b[1;32mC:\\ProgramData\\Anaconda3\\lib\\site-packages\\sklearn\\model_selection\\_search.py\u001b[0m in \u001b[0;36mevaluate_candidates\u001b[1;34m(candidate_params)\u001b[0m\n\u001b[0;32m    665\u001b[0m                                \u001b[1;32mfor\u001b[0m \u001b[0mparameters\u001b[0m\u001b[1;33m,\u001b[0m \u001b[1;33m(\u001b[0m\u001b[0mtrain\u001b[0m\u001b[1;33m,\u001b[0m \u001b[0mtest\u001b[0m\u001b[1;33m)\u001b[0m\u001b[1;33m\u001b[0m\u001b[1;33m\u001b[0m\u001b[0m\n\u001b[0;32m    666\u001b[0m                                in product(candidate_params,\n\u001b[1;32m--> 667\u001b[1;33m                                           cv.split(X, y, groups)))\n\u001b[0m\u001b[0;32m    668\u001b[0m \u001b[1;33m\u001b[0m\u001b[0m\n\u001b[0;32m    669\u001b[0m                 \u001b[1;32mif\u001b[0m \u001b[0mlen\u001b[0m\u001b[1;33m(\u001b[0m\u001b[0mout\u001b[0m\u001b[1;33m)\u001b[0m \u001b[1;33m<\u001b[0m \u001b[1;36m1\u001b[0m\u001b[1;33m:\u001b[0m\u001b[1;33m\u001b[0m\u001b[1;33m\u001b[0m\u001b[0m\n",
      "\u001b[1;32mC:\\ProgramData\\Anaconda3\\lib\\site-packages\\joblib\\parallel.py\u001b[0m in \u001b[0;36m__call__\u001b[1;34m(self, iterable)\u001b[0m\n\u001b[0;32m    932\u001b[0m \u001b[1;33m\u001b[0m\u001b[0m\n\u001b[0;32m    933\u001b[0m             \u001b[1;32mwith\u001b[0m \u001b[0mself\u001b[0m\u001b[1;33m.\u001b[0m\u001b[0m_backend\u001b[0m\u001b[1;33m.\u001b[0m\u001b[0mretrieval_context\u001b[0m\u001b[1;33m(\u001b[0m\u001b[1;33m)\u001b[0m\u001b[1;33m:\u001b[0m\u001b[1;33m\u001b[0m\u001b[1;33m\u001b[0m\u001b[0m\n\u001b[1;32m--> 934\u001b[1;33m                 \u001b[0mself\u001b[0m\u001b[1;33m.\u001b[0m\u001b[0mretrieve\u001b[0m\u001b[1;33m(\u001b[0m\u001b[1;33m)\u001b[0m\u001b[1;33m\u001b[0m\u001b[1;33m\u001b[0m\u001b[0m\n\u001b[0m\u001b[0;32m    935\u001b[0m             \u001b[1;31m# Make sure that we get a last message telling us we are done\u001b[0m\u001b[1;33m\u001b[0m\u001b[1;33m\u001b[0m\u001b[1;33m\u001b[0m\u001b[0m\n\u001b[0;32m    936\u001b[0m             \u001b[0melapsed_time\u001b[0m \u001b[1;33m=\u001b[0m \u001b[0mtime\u001b[0m\u001b[1;33m.\u001b[0m\u001b[0mtime\u001b[0m\u001b[1;33m(\u001b[0m\u001b[1;33m)\u001b[0m \u001b[1;33m-\u001b[0m \u001b[0mself\u001b[0m\u001b[1;33m.\u001b[0m\u001b[0m_start_time\u001b[0m\u001b[1;33m\u001b[0m\u001b[1;33m\u001b[0m\u001b[0m\n",
      "\u001b[1;32mC:\\ProgramData\\Anaconda3\\lib\\site-packages\\joblib\\parallel.py\u001b[0m in \u001b[0;36mretrieve\u001b[1;34m(self)\u001b[0m\n\u001b[0;32m    831\u001b[0m             \u001b[1;32mtry\u001b[0m\u001b[1;33m:\u001b[0m\u001b[1;33m\u001b[0m\u001b[1;33m\u001b[0m\u001b[0m\n\u001b[0;32m    832\u001b[0m                 \u001b[1;32mif\u001b[0m \u001b[0mgetattr\u001b[0m\u001b[1;33m(\u001b[0m\u001b[0mself\u001b[0m\u001b[1;33m.\u001b[0m\u001b[0m_backend\u001b[0m\u001b[1;33m,\u001b[0m \u001b[1;34m'supports_timeout'\u001b[0m\u001b[1;33m,\u001b[0m \u001b[1;32mFalse\u001b[0m\u001b[1;33m)\u001b[0m\u001b[1;33m:\u001b[0m\u001b[1;33m\u001b[0m\u001b[1;33m\u001b[0m\u001b[0m\n\u001b[1;32m--> 833\u001b[1;33m                     \u001b[0mself\u001b[0m\u001b[1;33m.\u001b[0m\u001b[0m_output\u001b[0m\u001b[1;33m.\u001b[0m\u001b[0mextend\u001b[0m\u001b[1;33m(\u001b[0m\u001b[0mjob\u001b[0m\u001b[1;33m.\u001b[0m\u001b[0mget\u001b[0m\u001b[1;33m(\u001b[0m\u001b[0mtimeout\u001b[0m\u001b[1;33m=\u001b[0m\u001b[0mself\u001b[0m\u001b[1;33m.\u001b[0m\u001b[0mtimeout\u001b[0m\u001b[1;33m)\u001b[0m\u001b[1;33m)\u001b[0m\u001b[1;33m\u001b[0m\u001b[1;33m\u001b[0m\u001b[0m\n\u001b[0m\u001b[0;32m    834\u001b[0m                 \u001b[1;32melse\u001b[0m\u001b[1;33m:\u001b[0m\u001b[1;33m\u001b[0m\u001b[1;33m\u001b[0m\u001b[0m\n\u001b[0;32m    835\u001b[0m                     \u001b[0mself\u001b[0m\u001b[1;33m.\u001b[0m\u001b[0m_output\u001b[0m\u001b[1;33m.\u001b[0m\u001b[0mextend\u001b[0m\u001b[1;33m(\u001b[0m\u001b[0mjob\u001b[0m\u001b[1;33m.\u001b[0m\u001b[0mget\u001b[0m\u001b[1;33m(\u001b[0m\u001b[1;33m)\u001b[0m\u001b[1;33m)\u001b[0m\u001b[1;33m\u001b[0m\u001b[1;33m\u001b[0m\u001b[0m\n",
      "\u001b[1;32mC:\\ProgramData\\Anaconda3\\lib\\site-packages\\joblib\\_parallel_backends.py\u001b[0m in \u001b[0;36mwrap_future_result\u001b[1;34m(future, timeout)\u001b[0m\n\u001b[0;32m    519\u001b[0m         AsyncResults.get from multiprocessing.\"\"\"\n\u001b[0;32m    520\u001b[0m         \u001b[1;32mtry\u001b[0m\u001b[1;33m:\u001b[0m\u001b[1;33m\u001b[0m\u001b[1;33m\u001b[0m\u001b[0m\n\u001b[1;32m--> 521\u001b[1;33m             \u001b[1;32mreturn\u001b[0m \u001b[0mfuture\u001b[0m\u001b[1;33m.\u001b[0m\u001b[0mresult\u001b[0m\u001b[1;33m(\u001b[0m\u001b[0mtimeout\u001b[0m\u001b[1;33m=\u001b[0m\u001b[0mtimeout\u001b[0m\u001b[1;33m)\u001b[0m\u001b[1;33m\u001b[0m\u001b[1;33m\u001b[0m\u001b[0m\n\u001b[0m\u001b[0;32m    522\u001b[0m         \u001b[1;32mexcept\u001b[0m \u001b[0mLokyTimeoutError\u001b[0m\u001b[1;33m:\u001b[0m\u001b[1;33m\u001b[0m\u001b[1;33m\u001b[0m\u001b[0m\n\u001b[0;32m    523\u001b[0m             \u001b[1;32mraise\u001b[0m \u001b[0mTimeoutError\u001b[0m\u001b[1;33m(\u001b[0m\u001b[1;33m)\u001b[0m\u001b[1;33m\u001b[0m\u001b[1;33m\u001b[0m\u001b[0m\n",
      "\u001b[1;32mC:\\ProgramData\\Anaconda3\\lib\\concurrent\\futures\\_base.py\u001b[0m in \u001b[0;36mresult\u001b[1;34m(self, timeout)\u001b[0m\n\u001b[0;32m    428\u001b[0m                 \u001b[1;32mreturn\u001b[0m \u001b[0mself\u001b[0m\u001b[1;33m.\u001b[0m\u001b[0m__get_result\u001b[0m\u001b[1;33m(\u001b[0m\u001b[1;33m)\u001b[0m\u001b[1;33m\u001b[0m\u001b[1;33m\u001b[0m\u001b[0m\n\u001b[0;32m    429\u001b[0m \u001b[1;33m\u001b[0m\u001b[0m\n\u001b[1;32m--> 430\u001b[1;33m             \u001b[0mself\u001b[0m\u001b[1;33m.\u001b[0m\u001b[0m_condition\u001b[0m\u001b[1;33m.\u001b[0m\u001b[0mwait\u001b[0m\u001b[1;33m(\u001b[0m\u001b[0mtimeout\u001b[0m\u001b[1;33m)\u001b[0m\u001b[1;33m\u001b[0m\u001b[1;33m\u001b[0m\u001b[0m\n\u001b[0m\u001b[0;32m    431\u001b[0m \u001b[1;33m\u001b[0m\u001b[0m\n\u001b[0;32m    432\u001b[0m             \u001b[1;32mif\u001b[0m \u001b[0mself\u001b[0m\u001b[1;33m.\u001b[0m\u001b[0m_state\u001b[0m \u001b[1;32min\u001b[0m \u001b[1;33m[\u001b[0m\u001b[0mCANCELLED\u001b[0m\u001b[1;33m,\u001b[0m \u001b[0mCANCELLED_AND_NOTIFIED\u001b[0m\u001b[1;33m]\u001b[0m\u001b[1;33m:\u001b[0m\u001b[1;33m\u001b[0m\u001b[1;33m\u001b[0m\u001b[0m\n",
      "\u001b[1;32mC:\\ProgramData\\Anaconda3\\lib\\threading.py\u001b[0m in \u001b[0;36mwait\u001b[1;34m(self, timeout)\u001b[0m\n\u001b[0;32m    294\u001b[0m         \u001b[1;32mtry\u001b[0m\u001b[1;33m:\u001b[0m    \u001b[1;31m# restore state no matter what (e.g., KeyboardInterrupt)\u001b[0m\u001b[1;33m\u001b[0m\u001b[1;33m\u001b[0m\u001b[0m\n\u001b[0;32m    295\u001b[0m             \u001b[1;32mif\u001b[0m \u001b[0mtimeout\u001b[0m \u001b[1;32mis\u001b[0m \u001b[1;32mNone\u001b[0m\u001b[1;33m:\u001b[0m\u001b[1;33m\u001b[0m\u001b[1;33m\u001b[0m\u001b[0m\n\u001b[1;32m--> 296\u001b[1;33m                 \u001b[0mwaiter\u001b[0m\u001b[1;33m.\u001b[0m\u001b[0macquire\u001b[0m\u001b[1;33m(\u001b[0m\u001b[1;33m)\u001b[0m\u001b[1;33m\u001b[0m\u001b[1;33m\u001b[0m\u001b[0m\n\u001b[0m\u001b[0;32m    297\u001b[0m                 \u001b[0mgotit\u001b[0m \u001b[1;33m=\u001b[0m \u001b[1;32mTrue\u001b[0m\u001b[1;33m\u001b[0m\u001b[1;33m\u001b[0m\u001b[0m\n\u001b[0;32m    298\u001b[0m             \u001b[1;32melse\u001b[0m\u001b[1;33m:\u001b[0m\u001b[1;33m\u001b[0m\u001b[1;33m\u001b[0m\u001b[0m\n",
      "\u001b[1;31mKeyboardInterrupt\u001b[0m: "
     ]
    }
   ],
   "source": [
    "# Random forest\n",
    "rf_ori = GridSearchCV(estimator = rf,refit = 'accuracy',\n",
    "                              param_grid = {\n",
    "                                  'n_estimators' : [100, 200, 300],\n",
    "                                  'criterion' : ['gini', 'entropy'],\n",
    "                                  'max_features' : ['auto', 'sqrt'],\n",
    "                                  'max_depth' : [None, 10, 20],\n",
    "                                  'min_samples_split' : [2,5,10, 20, 30],\n",
    "                                  'min_samples_leaf' : [1, 3, 5, 7, 9],\n",
    "                                  'bootstrap' : [True, False],\n",
    "                                  'class_weight' : [None, {0 : 1, 1 : 2}, {0 : 1, 1 : 3}]\n",
    "                              },\n",
    "                              cv = 5, n_jobs = -1, scoring = 'accuracy')\n",
    "rf_ori.fit(X_train, y_train)\n",
    "print('Accuracy Original Random Forest: {}'.format(rf_ori.best_score_))\n"
   ]
  },
  {
   "cell_type": "code",
   "execution_count": 60,
   "metadata": {},
   "outputs": [
    {
     "name": "stdout",
     "output_type": "stream",
     "text": [
      "Accuracy Original Logistic Regression: 0.7456140350877193\n"
     ]
    },
    {
     "name": "stderr",
     "output_type": "stream",
     "text": [
      "C:\\ProgramData\\Anaconda3\\lib\\site-packages\\sklearn\\model_selection\\_search.py:814: DeprecationWarning: The default of the `iid` parameter will change from True to False in version 0.22 and will be removed in 0.24. This will change numeric results when test-set sizes are unequal.\n",
      "  DeprecationWarning)\n",
      "C:\\ProgramData\\Anaconda3\\lib\\site-packages\\sklearn\\linear_model\\logistic.py:432: FutureWarning: Default solver will be changed to 'lbfgs' in 0.22. Specify a solver to silence this warning.\n",
      "  FutureWarning)\n"
     ]
    }
   ],
   "source": [
    "# Logistic regression\n",
    "LogisticRegression()\n",
    "log_ori = GridSearchCV(estimator = log,\n",
    "                              param_grid = {\n",
    "                                  'penalty' : ['l1', 'l2'],\n",
    "                                  'C' : [0.2, 0.4, 0.6, 0.8, 1.0],\n",
    "                                  'fit_intercept' : [True, False],\n",
    "                                  'class_weight' : [None, {0 : 1, 1 : 2}, {0 : 1, 1 : 3}],\n",
    "                              },\n",
    "                              cv = 5, n_jobs = -1, scoring = 'accuracy')\n",
    "log_ori.fit(X_train, y_train)\n",
    "print('Accuracy Original Logistic Regression: {}'.format(log_ori.best_score_))"
   ]
  },
  {
   "cell_type": "markdown",
   "metadata": {},
   "source": [
    "## Oversampled data"
   ]
  },
  {
   "cell_type": "code",
   "execution_count": 64,
   "metadata": {},
   "outputs": [
    {
     "name": "stdout",
     "output_type": "stream",
     "text": [
      "Accuracy Original Decision Tree: 0.7771084337349398\n"
     ]
    },
    {
     "name": "stderr",
     "output_type": "stream",
     "text": [
      "C:\\ProgramData\\Anaconda3\\lib\\site-packages\\sklearn\\model_selection\\_search.py:814: DeprecationWarning: The default of the `iid` parameter will change from True to False in version 0.22 and will be removed in 0.24. This will change numeric results when test-set sizes are unequal.\n",
      "  DeprecationWarning)\n"
     ]
    }
   ],
   "source": [
    "dtree_os = GridSearchCV(estimator = dt,refit = 'accuracy',\n",
    "                                         param_grid = {\n",
    "                                            'criterion': ['gini','entropy'],\n",
    "                                            'max_depth' : [None, 10, 20],\n",
    "                                            'max_features' : ['auto', 'sqrt'],\n",
    "                                            'max_depth' : [None, 10, 20],\n",
    "                                            'min_samples_split' : [2,5, 10, 20, 30],\n",
    "                                            'min_samples_leaf' : [1, 3, 5, 7, 9],                       \n",
    "                                         },\n",
    "                                         cv = 5, n_jobs = -1, scoring = 'accuracy')\n",
    "dtree_os.fit(oversampled_trainX, oversampled_trainY)\n",
    "print('Accuracy Original Decision Tree: {}' .format(dtree_os.best_score_))"
   ]
  },
  {
   "cell_type": "code",
   "execution_count": 68,
   "metadata": {},
   "outputs": [
    {
     "name": "stdout",
     "output_type": "stream",
     "text": [
      "Accuracy Oversampled Logistic Regression: 0.7740963855421686\n"
     ]
    },
    {
     "name": "stderr",
     "output_type": "stream",
     "text": [
      "C:\\ProgramData\\Anaconda3\\lib\\site-packages\\sklearn\\model_selection\\_search.py:814: DeprecationWarning: The default of the `iid` parameter will change from True to False in version 0.22 and will be removed in 0.24. This will change numeric results when test-set sizes are unequal.\n",
      "  DeprecationWarning)\n",
      "C:\\ProgramData\\Anaconda3\\lib\\site-packages\\sklearn\\linear_model\\logistic.py:432: FutureWarning: Default solver will be changed to 'lbfgs' in 0.22. Specify a solver to silence this warning.\n",
      "  FutureWarning)\n",
      "C:\\ProgramData\\Anaconda3\\lib\\site-packages\\sklearn\\utils\\validation.py:724: DataConversionWarning: A column-vector y was passed when a 1d array was expected. Please change the shape of y to (n_samples, ), for example using ravel().\n",
      "  y = column_or_1d(y, warn=True)\n"
     ]
    }
   ],
   "source": [
    "# Logistic regression\n",
    "log_os = GridSearchCV(estimator = log,\n",
    "                              param_grid = {\n",
    "                                  'penalty' : ['l1', 'l2'],\n",
    "                                  'C' : [0.2, 0.4, 0.6, 0.8, 1.0],\n",
    "                                  'fit_intercept' : [True, False]\n",
    "                              },\n",
    "                             cv = 5, n_jobs = -1, scoring = 'accuracy')\n",
    "log_os.fit(oversampled_trainX, oversampled_trainY)\n",
    "print('Accuracy Oversampled Logistic Regression: {}'.format(log_os.best_score_))\n",
    "\n"
   ]
  },
  {
   "cell_type": "code",
   "execution_count": 69,
   "metadata": {
    "collapsed": true
   },
   "outputs": [
    {
     "ename": "KeyboardInterrupt",
     "evalue": "",
     "output_type": "error",
     "traceback": [
      "\u001b[1;31m---------------------------------------------------------------------------\u001b[0m",
      "\u001b[1;31mKeyboardInterrupt\u001b[0m                         Traceback (most recent call last)",
      "\u001b[1;32m<ipython-input-69-cebda0a3526b>\u001b[0m in \u001b[0;36m<module>\u001b[1;34m\u001b[0m\n\u001b[0;32m     11\u001b[0m                               },\n\u001b[0;32m     12\u001b[0m                               cv = 5, n_jobs = -1, scoring = 'accuracy')\n\u001b[1;32m---> 13\u001b[1;33m \u001b[0mrf_os\u001b[0m\u001b[1;33m.\u001b[0m\u001b[0mfit\u001b[0m\u001b[1;33m(\u001b[0m\u001b[0moversampled_trainX\u001b[0m\u001b[1;33m,\u001b[0m \u001b[0moversampled_trainY\u001b[0m\u001b[1;33m)\u001b[0m\u001b[1;33m\u001b[0m\u001b[1;33m\u001b[0m\u001b[0m\n\u001b[0m\u001b[0;32m     14\u001b[0m \u001b[0mprint\u001b[0m\u001b[1;33m(\u001b[0m\u001b[1;34m'Accuracy Oversampled Random Forest: {}'\u001b[0m\u001b[1;33m.\u001b[0m\u001b[0mformat\u001b[0m\u001b[1;33m(\u001b[0m\u001b[0mrf_os\u001b[0m\u001b[1;33m.\u001b[0m\u001b[0mbest_score_\u001b[0m\u001b[1;33m)\u001b[0m\u001b[1;33m)\u001b[0m\u001b[1;33m\u001b[0m\u001b[1;33m\u001b[0m\u001b[0m\n",
      "\u001b[1;32mC:\\ProgramData\\Anaconda3\\lib\\site-packages\\sklearn\\model_selection\\_search.py\u001b[0m in \u001b[0;36mfit\u001b[1;34m(self, X, y, groups, **fit_params)\u001b[0m\n\u001b[0;32m    686\u001b[0m                 \u001b[1;32mreturn\u001b[0m \u001b[0mresults\u001b[0m\u001b[1;33m\u001b[0m\u001b[1;33m\u001b[0m\u001b[0m\n\u001b[0;32m    687\u001b[0m \u001b[1;33m\u001b[0m\u001b[0m\n\u001b[1;32m--> 688\u001b[1;33m             \u001b[0mself\u001b[0m\u001b[1;33m.\u001b[0m\u001b[0m_run_search\u001b[0m\u001b[1;33m(\u001b[0m\u001b[0mevaluate_candidates\u001b[0m\u001b[1;33m)\u001b[0m\u001b[1;33m\u001b[0m\u001b[1;33m\u001b[0m\u001b[0m\n\u001b[0m\u001b[0;32m    689\u001b[0m \u001b[1;33m\u001b[0m\u001b[0m\n\u001b[0;32m    690\u001b[0m         \u001b[1;31m# For multi-metric evaluation, store the best_index_, best_params_ and\u001b[0m\u001b[1;33m\u001b[0m\u001b[1;33m\u001b[0m\u001b[1;33m\u001b[0m\u001b[0m\n",
      "\u001b[1;32mC:\\ProgramData\\Anaconda3\\lib\\site-packages\\sklearn\\model_selection\\_search.py\u001b[0m in \u001b[0;36m_run_search\u001b[1;34m(self, evaluate_candidates)\u001b[0m\n\u001b[0;32m   1147\u001b[0m     \u001b[1;32mdef\u001b[0m \u001b[0m_run_search\u001b[0m\u001b[1;33m(\u001b[0m\u001b[0mself\u001b[0m\u001b[1;33m,\u001b[0m \u001b[0mevaluate_candidates\u001b[0m\u001b[1;33m)\u001b[0m\u001b[1;33m:\u001b[0m\u001b[1;33m\u001b[0m\u001b[1;33m\u001b[0m\u001b[0m\n\u001b[0;32m   1148\u001b[0m         \u001b[1;34m\"\"\"Search all candidates in param_grid\"\"\"\u001b[0m\u001b[1;33m\u001b[0m\u001b[1;33m\u001b[0m\u001b[0m\n\u001b[1;32m-> 1149\u001b[1;33m         \u001b[0mevaluate_candidates\u001b[0m\u001b[1;33m(\u001b[0m\u001b[0mParameterGrid\u001b[0m\u001b[1;33m(\u001b[0m\u001b[0mself\u001b[0m\u001b[1;33m.\u001b[0m\u001b[0mparam_grid\u001b[0m\u001b[1;33m)\u001b[0m\u001b[1;33m)\u001b[0m\u001b[1;33m\u001b[0m\u001b[1;33m\u001b[0m\u001b[0m\n\u001b[0m\u001b[0;32m   1150\u001b[0m \u001b[1;33m\u001b[0m\u001b[0m\n\u001b[0;32m   1151\u001b[0m \u001b[1;33m\u001b[0m\u001b[0m\n",
      "\u001b[1;32mC:\\ProgramData\\Anaconda3\\lib\\site-packages\\sklearn\\model_selection\\_search.py\u001b[0m in \u001b[0;36mevaluate_candidates\u001b[1;34m(candidate_params)\u001b[0m\n\u001b[0;32m    665\u001b[0m                                \u001b[1;32mfor\u001b[0m \u001b[0mparameters\u001b[0m\u001b[1;33m,\u001b[0m \u001b[1;33m(\u001b[0m\u001b[0mtrain\u001b[0m\u001b[1;33m,\u001b[0m \u001b[0mtest\u001b[0m\u001b[1;33m)\u001b[0m\u001b[1;33m\u001b[0m\u001b[1;33m\u001b[0m\u001b[0m\n\u001b[0;32m    666\u001b[0m                                in product(candidate_params,\n\u001b[1;32m--> 667\u001b[1;33m                                           cv.split(X, y, groups)))\n\u001b[0m\u001b[0;32m    668\u001b[0m \u001b[1;33m\u001b[0m\u001b[0m\n\u001b[0;32m    669\u001b[0m                 \u001b[1;32mif\u001b[0m \u001b[0mlen\u001b[0m\u001b[1;33m(\u001b[0m\u001b[0mout\u001b[0m\u001b[1;33m)\u001b[0m \u001b[1;33m<\u001b[0m \u001b[1;36m1\u001b[0m\u001b[1;33m:\u001b[0m\u001b[1;33m\u001b[0m\u001b[1;33m\u001b[0m\u001b[0m\n",
      "\u001b[1;32mC:\\ProgramData\\Anaconda3\\lib\\site-packages\\joblib\\parallel.py\u001b[0m in \u001b[0;36m__call__\u001b[1;34m(self, iterable)\u001b[0m\n\u001b[0;32m    932\u001b[0m \u001b[1;33m\u001b[0m\u001b[0m\n\u001b[0;32m    933\u001b[0m             \u001b[1;32mwith\u001b[0m \u001b[0mself\u001b[0m\u001b[1;33m.\u001b[0m\u001b[0m_backend\u001b[0m\u001b[1;33m.\u001b[0m\u001b[0mretrieval_context\u001b[0m\u001b[1;33m(\u001b[0m\u001b[1;33m)\u001b[0m\u001b[1;33m:\u001b[0m\u001b[1;33m\u001b[0m\u001b[1;33m\u001b[0m\u001b[0m\n\u001b[1;32m--> 934\u001b[1;33m                 \u001b[0mself\u001b[0m\u001b[1;33m.\u001b[0m\u001b[0mretrieve\u001b[0m\u001b[1;33m(\u001b[0m\u001b[1;33m)\u001b[0m\u001b[1;33m\u001b[0m\u001b[1;33m\u001b[0m\u001b[0m\n\u001b[0m\u001b[0;32m    935\u001b[0m             \u001b[1;31m# Make sure that we get a last message telling us we are done\u001b[0m\u001b[1;33m\u001b[0m\u001b[1;33m\u001b[0m\u001b[1;33m\u001b[0m\u001b[0m\n\u001b[0;32m    936\u001b[0m             \u001b[0melapsed_time\u001b[0m \u001b[1;33m=\u001b[0m \u001b[0mtime\u001b[0m\u001b[1;33m.\u001b[0m\u001b[0mtime\u001b[0m\u001b[1;33m(\u001b[0m\u001b[1;33m)\u001b[0m \u001b[1;33m-\u001b[0m \u001b[0mself\u001b[0m\u001b[1;33m.\u001b[0m\u001b[0m_start_time\u001b[0m\u001b[1;33m\u001b[0m\u001b[1;33m\u001b[0m\u001b[0m\n",
      "\u001b[1;32mC:\\ProgramData\\Anaconda3\\lib\\site-packages\\joblib\\parallel.py\u001b[0m in \u001b[0;36mretrieve\u001b[1;34m(self)\u001b[0m\n\u001b[0;32m    826\u001b[0m             \u001b[1;31m# we empty it and Python list are not thread-safe by default hence\u001b[0m\u001b[1;33m\u001b[0m\u001b[1;33m\u001b[0m\u001b[1;33m\u001b[0m\u001b[0m\n\u001b[0;32m    827\u001b[0m             \u001b[1;31m# the use of the lock\u001b[0m\u001b[1;33m\u001b[0m\u001b[1;33m\u001b[0m\u001b[1;33m\u001b[0m\u001b[0m\n\u001b[1;32m--> 828\u001b[1;33m             \u001b[1;32mwith\u001b[0m \u001b[0mself\u001b[0m\u001b[1;33m.\u001b[0m\u001b[0m_lock\u001b[0m\u001b[1;33m:\u001b[0m\u001b[1;33m\u001b[0m\u001b[1;33m\u001b[0m\u001b[0m\n\u001b[0m\u001b[0;32m    829\u001b[0m                 \u001b[0mjob\u001b[0m \u001b[1;33m=\u001b[0m \u001b[0mself\u001b[0m\u001b[1;33m.\u001b[0m\u001b[0m_jobs\u001b[0m\u001b[1;33m.\u001b[0m\u001b[0mpop\u001b[0m\u001b[1;33m(\u001b[0m\u001b[1;36m0\u001b[0m\u001b[1;33m)\u001b[0m\u001b[1;33m\u001b[0m\u001b[1;33m\u001b[0m\u001b[0m\n\u001b[0;32m    830\u001b[0m \u001b[1;33m\u001b[0m\u001b[0m\n",
      "\u001b[1;31mKeyboardInterrupt\u001b[0m: "
     ]
    }
   ],
   "source": [
    "# Random forest\n",
    "rf_os = GridSearchCV(estimator = rf,\n",
    "                              param_grid = {\n",
    "                                  'n_estimators' : [100, 200, 300],\n",
    "                                  'criterion' : ['gini', 'entropy'],\n",
    "                                  'max_features' : ['auto', 'sqrt'],\n",
    "                                  'max_depth' : [None, 10, 20],\n",
    "                                  'min_samples_split' : [10, 20, 30, 40, 50],\n",
    "                                  'min_samples_leaf' : [1, 3, 5, 7, 9],\n",
    "                                  'bootstrap' : [True, False],\n",
    "                              },\n",
    "                              cv = 5, n_jobs = -1, scoring = 'accuracy')\n",
    "rf_os.fit(oversampled_trainX, oversampled_trainY)\n",
    "print('Accuracy Oversampled Random Forest: {}'.format(rf_os.best_score_))"
   ]
  },
  {
   "cell_type": "markdown",
   "metadata": {},
   "source": [
    "akurasi decision tree untuk data yg sudah di smote lebih tinggi nilainya dari akurasi logistic regression data smote"
   ]
  },
  {
   "cell_type": "code",
   "execution_count": 72,
   "metadata": {},
   "outputs": [
    {
     "data": {
      "text/plain": [
       "{'criterion': 'entropy',\n",
       " 'max_depth': None,\n",
       " 'max_features': 'auto',\n",
       " 'min_samples_leaf': 1,\n",
       " 'min_samples_split': 5}"
      ]
     },
     "execution_count": 72,
     "metadata": {},
     "output_type": "execute_result"
    }
   ],
   "source": [
    "dtree_os.best_params_"
   ]
  },
  {
   "cell_type": "code",
   "execution_count": 73,
   "metadata": {},
   "outputs": [
    {
     "name": "stdout",
     "output_type": "stream",
     "text": [
      "              precision    recall  f1-score   support\n",
      "\n",
      "           0       0.60      0.91      0.73        35\n",
      "           1       0.40      0.09      0.14        23\n",
      "\n",
      "    accuracy                           0.59        58\n",
      "   macro avg       0.50      0.50      0.44        58\n",
      "weighted avg       0.52      0.59      0.50        58\n",
      "\n"
     ]
    }
   ],
   "source": [
    "## Tes ulang setelah lihat hasil gridcv\n",
    "\n",
    "from sklearn.tree import DecisionTreeClassifier\n",
    "\n",
    "puun = DecisionTreeClassifier(criterion = 'entropy', max_depth= None ,min_samples_leaf= 1, \n",
    "                               min_samples_split= 5, splitter= 'random', max_features= 'auto' )\n",
    "\n",
    "puun.fit(oversampled_trainX, oversampled_trainY)\n",
    "\n",
    "## Prediction & Evaluation\n",
    "\n",
    "prediksi = puun.predict(X_test)\n",
    "\n",
    "probability = puun.predict_proba(X_test)\n",
    "\n",
    "probability\n",
    "\n",
    "from sklearn.metrics import classification_report,confusion_matrix\n",
    "\n",
    "print(classification_report(y_test,prediksi))\n",
    "\n",
    "\n"
   ]
  },
  {
   "cell_type": "markdown",
   "metadata": {},
   "source": [
    "hasil akurasi untuk data oversample(yg sudah di smote) untuk decision tree meningkat dari 0.53 menjadi 0.59 setelah menggunakan parameter hasil dari gridsearch cv"
   ]
  },
  {
   "cell_type": "code",
   "execution_count": 75,
   "metadata": {},
   "outputs": [
    {
     "data": {
      "text/plain": [
       "<matplotlib.axes._subplots.AxesSubplot at 0x2555f160048>"
      ]
     },
     "execution_count": 75,
     "metadata": {},
     "output_type": "execute_result"
    },
    {
     "data": {
      "image/png": "[encoded data removed]",
      "text/plain": [
       "<Figure size 1080x576 with 1 Axes>"
      ]
     },
     "metadata": {
      "needs_background": "light"
     },
     "output_type": "display_data"
    }
   ],
   "source": [
    "plt.figure(figsize = (15,8))\n",
    "\n",
    "fi = pd.Series(puun.feature_importances_, oversampled_trainX.columns).sort_values(ascending = False)\n",
    "fi.plot(kind = 'bar', title ='Feature Importances')"
   ]
  },
  {
   "cell_type": "code",
   "execution_count": 77,
   "metadata": {},
   "outputs": [],
   "source": [
    "from sklearn.model_selection import KFold\n",
    "from sklearn.metrics import matthews_corrcoef, f1_score, classification_report, roc_auc_score, confusion_matrix, log_loss"
   ]
  },
  {
   "cell_type": "code",
   "execution_count": 81,
   "metadata": {},
   "outputs": [],
   "source": [
    "def clf_error(kanker,kelas,model):\n",
    "    from sklearn.metrics import classification_report,matthews_corrcoef,f1_score,roc_auc_score,accuracy_score,confusion_matrix,log_loss\n",
    "    predictions=model.predict(kanker)\n",
    "    predictProba=model.predict_proba(kanker)\n",
    "    return {\n",
    "        'report':classification_report(kelas,predictions),\n",
    "        'matthews':matthews_corrcoef(kelas,predictions),\n",
    "        'f1':f1_score(kelas,predictions,average='macro'),\n",
    "        'roc':roc_auc_score(kelas,predictProba[:,1]),\n",
    "        'accuracy':accuracy_score(kelas,predictions),\n",
    "        'confusion':confusion_matrix(kelas,predictions),\n",
    "        'logloss':log_loss(kelas,predictProba)}\n",
    "        \n",
    "def clf_metrics(X_train,y_train,X_test,y_test,model):\n",
    "    model.fit(X_train,y_train)\n",
    "    train_error=clf_error(X_train,y_train,model)\n",
    "    validation_error=clf_error(X_test,y_test,model)\n",
    "    return train_error, validation_error\n",
    "\n",
    "\n",
    "def KF_validation_clf(data, target,estimator,K,**kwargs):\n",
    "    from sklearn.model_selection import KFold\n",
    "    train_errors=[]\n",
    "    validation_errors=[]\n",
    "    \n",
    "    kf=KFold(K)\n",
    "    fold=0\n",
    "    try:\n",
    "        data.head()\n",
    "    except:\n",
    "        data=pd.DataFrame(data.toarray())\n",
    "    for train_index,val_index in kf.split(data,target):\n",
    "        fold+=1\n",
    "        start=time()\n",
    "        #split data\n",
    "        X_train,X_val=data.iloc[train_index],data.iloc[val_index]\n",
    "        y_train,y_val=target[train_index],target[val_index]\n",
    "        \n",
    "        X_train,y_train=SMOTE().fit_resample(X_train,y_train)\n",
    "\n",
    "        #instantiate model\n",
    "        model=estimator\n",
    "\n",
    "        #calculate errors\n",
    "        train_error,val_error=clf_metrics(X_train,y_train,X_val,y_val,model)\n",
    "\n",
    "        #append to appropriate list\n",
    "        train_errors.append(train_error)\n",
    "        validation_errors.append(val_error)\n",
    "        \n",
    "        print(f'...finished fold {fold} in {round(time()-start,3)}s')\n",
    "        \n",
    "    \n",
    "    index=[]\n",
    "\n",
    "    columns=[]\n",
    "    scoring=['Accuracy','F1 Score','LogLoss','Matthews Correlation Coefficient','ROC AUC']\n",
    "    keys=[x.lower().split()[0] for x in scoring]\n",
    "\n",
    "    for i in scoring:\n",
    "        columns.append(f'Train_{i}')\n",
    "        columns.append(f'Test_{i}')\n",
    "    \n",
    "    df={i:[] for i in columns}\n",
    "    \n",
    "\n",
    "    for i,tr,val in zip(range(1,K+1),train_errors,validation_errors):\n",
    "        index.append('iteration {}'.format(i))\n",
    "        for col,key in zip(scoring,keys):\n",
    "            df[f'Train_{col}'].append(tr[key])\n",
    "            df[f'Test_{col}'].append(val[key])\n",
    "\n",
    "    index.append('Average')\n",
    "    for key,val in df.items():\n",
    "        df[key].append(sum(val)/len(val))\n",
    "\n",
    "    columns=[]\n",
    "    for i in scoring:\n",
    "        columns.append(f'Train_{i}')\n",
    "        columns.append(f'Test_{i}')\n",
    "    return train_errors,validation_errors,pd.DataFrame(df,index)"
   ]
  },
  {
   "cell_type": "code",
   "execution_count": 82,
   "metadata": {},
   "outputs": [
    {
     "ename": "NameError",
     "evalue": "name 'time' is not defined",
     "output_type": "error",
     "traceback": [
      "\u001b[1;31m---------------------------------------------------------------------------\u001b[0m",
      "\u001b[1;31mNameError\u001b[0m                                 Traceback (most recent call last)",
      "\u001b[1;32m<ipython-input-82-8d61948ab882>\u001b[0m in \u001b[0;36m<module>\u001b[1;34m\u001b[0m\n\u001b[1;32m----> 1\u001b[1;33m \u001b[0mtrain_errors\u001b[0m\u001b[1;33m,\u001b[0m\u001b[0mvalidation_errors\u001b[0m\u001b[1;33m,\u001b[0m\u001b[0mdfValidation\u001b[0m\u001b[1;33m=\u001b[0m\u001b[0mKF_validation_clf\u001b[0m\u001b[1;33m(\u001b[0m\u001b[0mkanker\u001b[0m\u001b[1;33m,\u001b[0m\u001b[0mkelas\u001b[0m\u001b[1;33m,\u001b[0m\u001b[0mrf\u001b[0m\u001b[1;33m,\u001b[0m\u001b[1;36m5\u001b[0m\u001b[1;33m)\u001b[0m\u001b[1;33m\u001b[0m\u001b[1;33m\u001b[0m\u001b[0m\n\u001b[0m\u001b[0;32m      2\u001b[0m \u001b[0mdfValidation\u001b[0m\u001b[1;33m\u001b[0m\u001b[1;33m\u001b[0m\u001b[0m\n",
      "\u001b[1;32m<ipython-input-81-cb59744bbe9f>\u001b[0m in \u001b[0;36mKF_validation_clf\u001b[1;34m(data, target, estimator, K, **kwargs)\u001b[0m\n\u001b[0;32m     32\u001b[0m     \u001b[1;32mfor\u001b[0m \u001b[0mtrain_index\u001b[0m\u001b[1;33m,\u001b[0m\u001b[0mval_index\u001b[0m \u001b[1;32min\u001b[0m \u001b[0mkf\u001b[0m\u001b[1;33m.\u001b[0m\u001b[0msplit\u001b[0m\u001b[1;33m(\u001b[0m\u001b[0mdata\u001b[0m\u001b[1;33m,\u001b[0m\u001b[0mtarget\u001b[0m\u001b[1;33m)\u001b[0m\u001b[1;33m:\u001b[0m\u001b[1;33m\u001b[0m\u001b[1;33m\u001b[0m\u001b[0m\n\u001b[0;32m     33\u001b[0m         \u001b[0mfold\u001b[0m\u001b[1;33m+=\u001b[0m\u001b[1;36m1\u001b[0m\u001b[1;33m\u001b[0m\u001b[1;33m\u001b[0m\u001b[0m\n\u001b[1;32m---> 34\u001b[1;33m         \u001b[0mstart\u001b[0m\u001b[1;33m=\u001b[0m\u001b[0mtime\u001b[0m\u001b[1;33m(\u001b[0m\u001b[1;33m)\u001b[0m\u001b[1;33m\u001b[0m\u001b[1;33m\u001b[0m\u001b[0m\n\u001b[0m\u001b[0;32m     35\u001b[0m         \u001b[1;31m#split data\u001b[0m\u001b[1;33m\u001b[0m\u001b[1;33m\u001b[0m\u001b[1;33m\u001b[0m\u001b[0m\n\u001b[0;32m     36\u001b[0m         \u001b[0mX_train\u001b[0m\u001b[1;33m,\u001b[0m\u001b[0mX_val\u001b[0m\u001b[1;33m=\u001b[0m\u001b[0mdata\u001b[0m\u001b[1;33m.\u001b[0m\u001b[0miloc\u001b[0m\u001b[1;33m[\u001b[0m\u001b[0mtrain_index\u001b[0m\u001b[1;33m]\u001b[0m\u001b[1;33m,\u001b[0m\u001b[0mdata\u001b[0m\u001b[1;33m.\u001b[0m\u001b[0miloc\u001b[0m\u001b[1;33m[\u001b[0m\u001b[0mval_index\u001b[0m\u001b[1;33m]\u001b[0m\u001b[1;33m\u001b[0m\u001b[1;33m\u001b[0m\u001b[0m\n",
      "\u001b[1;31mNameError\u001b[0m: name 'time' is not defined"
     ]
    }
   ],
   "source": [
    "train_errors,validation_errors,dfValidation=KF_validation_clf(kanker,kelas,rf,5)\n",
    "dfValidation"
   ]
  },
  {
   "cell_type": "code",
   "execution_count": 83,
   "metadata": {},
   "outputs": [
    {
     "ename": "NameError",
     "evalue": "name 'kf' is not defined",
     "output_type": "error",
     "traceback": [
      "\u001b[1;31m---------------------------------------------------------------------------\u001b[0m",
      "\u001b[1;31mNameError\u001b[0m                                 Traceback (most recent call last)",
      "\u001b[1;32m<ipython-input-83-da685287a82c>\u001b[0m in \u001b[0;36m<module>\u001b[1;34m\u001b[0m\n\u001b[0;32m      1\u001b[0m \u001b[0mtrain_errors\u001b[0m \u001b[1;33m=\u001b[0m \u001b[1;33m[\u001b[0m\u001b[1;33m]\u001b[0m\u001b[1;33m\u001b[0m\u001b[1;33m\u001b[0m\u001b[0m\n\u001b[0;32m      2\u001b[0m \u001b[0mvalidation_errors\u001b[0m \u001b[1;33m=\u001b[0m \u001b[1;33m[\u001b[0m\u001b[1;33m]\u001b[0m\u001b[1;33m\u001b[0m\u001b[1;33m\u001b[0m\u001b[0m\n\u001b[1;32m----> 3\u001b[1;33m \u001b[1;32mfor\u001b[0m \u001b[0mtrain_index\u001b[0m\u001b[1;33m,\u001b[0m \u001b[0mval_index\u001b[0m \u001b[1;32min\u001b[0m \u001b[0mkf\u001b[0m\u001b[1;33m.\u001b[0m\u001b[0msplit\u001b[0m\u001b[1;33m(\u001b[0m\u001b[0mX\u001b[0m\u001b[1;33m,\u001b[0m\u001b[0my\u001b[0m\u001b[1;33m)\u001b[0m\u001b[1;33m:\u001b[0m\u001b[1;33m\u001b[0m\u001b[1;33m\u001b[0m\u001b[0m\n\u001b[0m\u001b[0;32m      4\u001b[0m     \u001b[1;31m# split data\u001b[0m\u001b[1;33m\u001b[0m\u001b[1;33m\u001b[0m\u001b[1;33m\u001b[0m\u001b[0m\n\u001b[0;32m      5\u001b[0m     \u001b[0mX_train\u001b[0m\u001b[1;33m,\u001b[0m \u001b[0mX_val\u001b[0m \u001b[1;33m=\u001b[0m \u001b[0mX\u001b[0m\u001b[1;33m.\u001b[0m\u001b[0miloc\u001b[0m\u001b[1;33m[\u001b[0m\u001b[0mtrain_index\u001b[0m\u001b[1;33m]\u001b[0m\u001b[1;33m,\u001b[0m \u001b[0mX\u001b[0m\u001b[1;33m.\u001b[0m\u001b[0miloc\u001b[0m\u001b[1;33m[\u001b[0m\u001b[0mval_index\u001b[0m\u001b[1;33m]\u001b[0m\u001b[1;33m\u001b[0m\u001b[1;33m\u001b[0m\u001b[0m\n",
      "\u001b[1;31mNameError\u001b[0m: name 'kf' is not defined"
     ]
    }
   ],
   "source": [
    "train_errors = []\n",
    "validation_errors = []\n",
    "for train_index, val_index in kf.split(X,y):\n",
    "    # split data\n",
    "    X_train, X_val = X.iloc[train_index], X.iloc[val_index]\n",
    "    y_train, y_val = y.iloc[train_index], y.iloc[val_index]\n",
    "    # instantiative model\n",
    "    rf_new = RandomForestClassifier(n_estimators = 100, min_samples_split = 20, min_samples_leaf = 1,\n",
    "                                max_features = 'sqrt', max_depth = 10, criterion = 'entropy', bootstrap = False)\n",
    "    # calculate errors\n",
    "    train_error, val_error = calc_metrics(X_train, y_train, X_val, y_val, rfc_new)\n",
    "    # append to appropriate list\n",
    "    train_errors.append(train_error)"
   ]
  },
  {
   "cell_type": "code",
   "execution_count": null,
   "metadata": {},
   "outputs": [],
   "source": []
  },
  {
   "cell_type": "code",
   "execution_count": null,
   "metadata": {},
   "outputs": [],
   "source": []
  }
 ],
 "metadata": {
  "hide_input": false,
  "kernelspec": {
   "display_name": "Python 3",
   "language": "python",
   "name": "python3"
  },
  "language_info": {
   "codemirror_mode": {
    "name": "ipython",
    "version": 3
   },
   "file_extension": ".py",
   "mimetype": "text/x-python",
   "name": "python",
   "nbconvert_exporter": "python",
   "pygments_lexer": "ipython3",
   "version": "3.7.4"
  },
  "varInspector": {
   "cols": {
    "lenName": 16,
    "lenType": 16,
    "lenVar": 40
   },
   "kernels_config": {
    "python": {
     "delete_cmd_postfix": "",
     "delete_cmd_prefix": "del ",
     "library": "var_list.py",
     "varRefreshCmd": "print(var_dic_list())"
    },
    "r": {
     "delete_cmd_postfix": ") ",
     "delete_cmd_prefix": "rm(",
     "library": "var_list.r",
     "varRefreshCmd": "cat(var_dic_list()) "
    }
   },
   "types_to_exclude": [
    "module",
    "function",
    "builtin_function_or_method",
    "instance",
    "_Feature"
   ],
   "window_display": false
  }
 },
 "nbformat": 4,
 "nbformat_minor": 2
}
